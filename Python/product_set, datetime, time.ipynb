{
 "cells": [
  {
   "cell_type": "code",
   "execution_count": 1,
   "metadata": {},
   "outputs": [
    {
     "data": {
      "text/plain": [
       "{100, 200, 300, 400}"
      ]
     },
     "execution_count": 1,
     "metadata": {},
     "output_type": "execute_result"
    }
   ],
   "source": [
    "s = {100, 100, 200, 200, 300, 400}\n",
    "s"
   ]
  },
  {
   "cell_type": "code",
   "execution_count": 2,
   "metadata": {},
   "outputs": [
    {
     "name": "stdout",
     "output_type": "stream",
     "text": [
      "{100, 200, 300, 400, 500}\n"
     ]
    }
   ],
   "source": [
    "s.add(500)\n",
    "print(s)"
   ]
  },
  {
   "cell_type": "code",
   "execution_count": 3,
   "metadata": {},
   "outputs": [
    {
     "name": "stdout",
     "output_type": "stream",
     "text": [
      "{200, 300, 400, 500}\n"
     ]
    }
   ],
   "source": [
    "s.discard(100)\n",
    "print(s)"
   ]
  },
  {
   "cell_type": "code",
   "execution_count": 5,
   "metadata": {},
   "outputs": [
    {
     "name": "stdout",
     "output_type": "stream",
     "text": [
      "{1, 2, 3, 4, 5, 6, 7, 8, 9}\n"
     ]
    }
   ],
   "source": [
    "s1 = {1, 2, 3, 4, 5, 6}\n",
    "s2 = {4, 5, 6, 7, 8, 9}\n",
    "print(s1 | s2)"
   ]
  },
  {
   "cell_type": "code",
   "execution_count": 6,
   "metadata": {},
   "outputs": [
    {
     "data": {
      "text/plain": [
       "{1, 2, 3, 4, 5, 6, 7, 8, 9}"
      ]
     },
     "execution_count": 6,
     "metadata": {},
     "output_type": "execute_result"
    }
   ],
   "source": [
    "s1.union(s2)"
   ]
  },
  {
   "cell_type": "code",
   "execution_count": 7,
   "metadata": {},
   "outputs": [
    {
     "data": {
      "text/plain": [
       "{5, 6}"
      ]
     },
     "execution_count": 7,
     "metadata": {},
     "output_type": "execute_result"
    }
   ],
   "source": [
    "s1 = {1, 2, 3, 4, 5, 6}\n",
    "s2 = {4, 5, 6, 7, 8, 9}\n",
    "s3 = {5, 6, 9, 10, 11}\n",
    "s1 & s2 & s3"
   ]
  },
  {
   "cell_type": "code",
   "execution_count": 8,
   "metadata": {},
   "outputs": [
    {
     "data": {
      "text/plain": [
       "{1, 2, 3}"
      ]
     },
     "execution_count": 8,
     "metadata": {},
     "output_type": "execute_result"
    }
   ],
   "source": [
    "s1 - s2 - s3"
   ]
  },
  {
   "cell_type": "code",
   "execution_count": 12,
   "metadata": {},
   "outputs": [
    {
     "data": {
      "text/plain": [
       "True"
      ]
     },
     "execution_count": 12,
     "metadata": {},
     "output_type": "execute_result"
    }
   ],
   "source": [
    "s1 = {1, 2, 3, 4, 5}\n",
    "s2 = {1, 2, 3}\n",
    "s3 = {1, 2, 6}\n",
    "\n",
    "s2.issubset(s1)"
   ]
  },
  {
   "cell_type": "code",
   "execution_count": 13,
   "metadata": {},
   "outputs": [
    {
     "data": {
      "text/plain": [
       "False"
      ]
     },
     "execution_count": 13,
     "metadata": {},
     "output_type": "execute_result"
    }
   ],
   "source": [
    "s3.issubset(s1)"
   ]
  },
  {
   "cell_type": "code",
   "execution_count": 15,
   "metadata": {},
   "outputs": [
    {
     "data": {
      "text/plain": [
       "False"
      ]
     },
     "execution_count": 15,
     "metadata": {},
     "output_type": "execute_result"
    }
   ],
   "source": [
    "s1.issuperset(s3)"
   ]
  },
  {
   "cell_type": "code",
   "execution_count": 14,
   "metadata": {},
   "outputs": [
    {
     "data": {
      "text/plain": [
       "True"
      ]
     },
     "execution_count": 14,
     "metadata": {},
     "output_type": "execute_result"
    }
   ],
   "source": [
    "s1.issuperset(s2)"
   ]
  },
  {
   "cell_type": "code",
   "execution_count": 11,
   "metadata": {},
   "outputs": [
    {
     "data": {
      "text/plain": [
       "True"
      ]
     },
     "execution_count": 11,
     "metadata": {},
     "output_type": "execute_result"
    }
   ],
   "source": [
    "s1 = {1, 2, 3}\n",
    "s2 = {10, 20, 30}\n",
    "s1.isdisjoint(s2)"
   ]
  },
  {
   "cell_type": "code",
   "execution_count": 18,
   "metadata": {},
   "outputs": [],
   "source": [
    "def product_set(set1, set2):\n",
    "    res = set()\n",
    "    for i in set1:\n",
    "        for j in set2:\n",
    "            res = res | {(i, j)} # 데카르트 곱\n",
    "    return res"
   ]
  },
  {
   "cell_type": "code",
   "execution_count": 19,
   "metadata": {},
   "outputs": [
    {
     "name": "stdout",
     "output_type": "stream",
     "text": [
      "A =  {1, 3}\n",
      "B =  {2, 4}\n",
      "AxB = {(3, 2), (1, 2), (3, 4), (1, 4)}\n"
     ]
    }
   ],
   "source": [
    "A = {1, 3}\n",
    "B = {2, 4}\n",
    "AxB = product_set(A, B) # 구현해둔 함수 사용\n",
    "print('A = ', A)\n",
    "print('B = ', B)\n",
    "print('AxB =', AxB)"
   ]
  },
  {
   "cell_type": "code",
   "execution_count": 20,
   "metadata": {},
   "outputs": [
    {
     "name": "stdout",
     "output_type": "stream",
     "text": [
      "AxB = {(1, 'C'), (1, 'A'), (2, 'C'), (2, 'B'), (1, 'B'), (2, 'A')}\n",
      "BxA = {('C', 2), ('A', 1), ('B', 2), ('C', 1), ('A', 2), ('B', 1)}\n",
      "AxA = {(1, 1), (1, 2), (2, 1), (2, 2)}\n",
      "BxB = {('B', 'A'), ('C', 'C'), ('A', 'A'), ('B', 'B'), ('C', 'A'), ('A', 'B'), ('C', 'B'), ('B', 'C'), ('A', 'C')}\n"
     ]
    }
   ],
   "source": [
    "A = {1, 2}\n",
    "B = {'A', 'B', 'C'}\n",
    "\n",
    "AxB = product_set(A, B)\n",
    "BxA = product_set(B, A)\n",
    "AxA = product_set(A, A)\n",
    "BxB = product_set(B, B)\n",
    "\n",
    "print('AxB =', AxB)\n",
    "print('BxA =', BxA)\n",
    "print('AxA =', AxA)\n",
    "print('BxB =', BxB)"
   ]
  },
  {
   "cell_type": "code",
   "execution_count": 21,
   "metadata": {},
   "outputs": [],
   "source": [
    "def exp(input_set, exponent):\n",
    "    res = input_set # 초기화\n",
    "    for i in range(exponent - 1):\n",
    "        res = product_set(res, input_set)\n",
    "    return res"
   ]
  },
  {
   "cell_type": "code",
   "execution_count": 22,
   "metadata": {},
   "outputs": [
    {
     "name": "stdout",
     "output_type": "stream",
     "text": [
      "{((1, 2), 2), ((2, 2), 2), ((2, 1), 1), ((1, 1), 2), ((1, 2), 1), ((2, 2), 1), ((1, 1), 1), ((2, 1), 2)}\n"
     ]
    }
   ],
   "source": [
    "A = {1, 2}\n",
    "A3 = exp(A, 3)\n",
    "print(A3)"
   ]
  },
  {
   "cell_type": "code",
   "execution_count": 31,
   "metadata": {},
   "outputs": [
    {
     "name": "stdout",
     "output_type": "stream",
     "text": [
      "{(3, 4), (4, 3), (3, 1), (5, 4), (4, 6), (5, 1), (2, 2), (1, 6), (2, 5), (1, 3), (6, 2), (6, 5), (4, 2), (4, 5), (3, 3), (5, 6), (3, 6), (5, 3), (2, 4), (1, 2), (2, 1), (1, 5), (6, 1), (6, 4), (3, 2), (4, 1), (3, 5), (5, 2), (4, 4), (5, 5), (1, 1), (1, 4), (2, 3), (2, 6), (6, 6), (6, 3)}\n"
     ]
    }
   ],
   "source": [
    "A = {1, 2, 3, 4, 5, 6}\n",
    "A3 = product_set(A, A)\n",
    "print(A3)"
   ]
  },
  {
   "cell_type": "code",
   "execution_count": 32,
   "metadata": {},
   "outputs": [
    {
     "name": "stdout",
     "output_type": "stream",
     "text": [
      "36\n"
     ]
    }
   ],
   "source": [
    "print(len(A3))"
   ]
  },
  {
   "cell_type": "code",
   "execution_count": 44,
   "metadata": {},
   "outputs": [
    {
     "name": "stdout",
     "output_type": "stream",
     "text": [
      "sum_set = {2, 3, 4, 5, 6, 7, 8, 9, 10, 11, 12}\n"
     ]
    }
   ],
   "source": [
    "print('sum_set =', {sum(tuple_element) for tuple_element in A3})"
   ]
  },
  {
   "cell_type": "code",
   "execution_count": 43,
   "metadata": {},
   "outputs": [
    {
     "name": "stdout",
     "output_type": "stream",
     "text": [
      "sum_list = [7, 7, 4, 9, 10, 6, 4, 7, 7, 4, 8, 11, 6, 9, 6, 11, 9, 8, 6, 3, 3, 6, 7, 10, 5, 5, 8, 7, 8, 10, 2, 5, 5, 8, 12, 9]\n"
     ]
    }
   ],
   "source": [
    "print('sum_list =', [sum(tuple_element) for tuple_element in A3])"
   ]
  },
  {
   "cell_type": "code",
   "execution_count": 45,
   "metadata": {},
   "outputs": [
    {
     "name": "stdout",
     "output_type": "stream",
     "text": [
      "(3, 4)\n",
      "7\n"
     ]
    }
   ],
   "source": [
    "at = (3, 4)\n",
    "print(at)\n",
    "print(sum(at))"
   ]
  },
  {
   "cell_type": "code",
   "execution_count": 47,
   "metadata": {},
   "outputs": [
    {
     "name": "stdout",
     "output_type": "stream",
     "text": [
      "{((1, 6), 5), ((4, 5), 4), ((3, 4), 1), ((6, 6), 2), ((5, 1), 5), ((4, 3), 2), ((1, 1), 5), ((3, 1), 5), ((1, 2), 2), ((4, 1), 1), ((6, 5), 6), ((2, 5), 5), ((1, 4), 2), ((2, 4), 5), ((4, 2), 1), ((3, 2), 3), ((2, 3), 3), ((2, 6), 1), ((2, 1), 4), ((5, 3), 5), ((4, 5), 6), ((3, 4), 3), ((6, 6), 4), ((4, 3), 4), ((1, 5), 2), ((2, 2), 2), ((1, 2), 4), ((4, 1), 3), ((6, 2), 1), ((4, 4), 1), ((1, 4), 4), ((5, 6), 3), ((6, 4), 1), ((4, 2), 3), ((2, 6), 3), ((2, 3), 5), ((2, 1), 6), ((3, 5), 6), ((6, 6), 6), ((4, 3), 6), ((2, 2), 4), ((5, 4), 5), ((6, 5), 1), ((6, 2), 3), ((1, 2), 6), ((4, 1), 5), ((1, 3), 2), ((1, 4), 6), ((5, 6), 5), ((6, 4), 3), ((6, 1), 5), ((2, 6), 5), ((6, 3), 6), ((5, 1), 2), ((1, 1), 2), ((2, 2), 6), ((6, 5), 3), ((6, 2), 5), ((2, 5), 2), ((1, 3), 4), ((3, 3), 5), ((6, 4), 5), ((3, 6), 1), ((5, 3), 2), ((2, 1), 1), ((3, 5), 1), ((6, 6), 1), ((4, 3), 1), ((5, 2), 4), ((1, 1), 4), ((1, 2), 1), ((6, 5), 5), ((2, 3), 2), ((6, 3), 1), ((4, 6), 1), ((3, 6), 3), ((5, 3), 4), ((3, 5), 3), ((3, 2), 5), ((6, 6), 3), ((1, 1), 6), ((5, 2), 6), ((3, 4), 5), ((5, 5), 2), ((5, 4), 2), ((1, 5), 4), ((4, 4), 3), ((5, 6), 2), ((6, 1), 2), ((2, 3), 4), ((6, 3), 3), ((3, 6), 5), ((4, 6), 3), ((5, 3), 6), ((3, 5), 5), ((4, 2), 5), ((6, 6), 5), ((1, 6), 2), ((4, 5), 1), ((5, 5), 4), ((3, 1), 2), ((5, 4), 4), ((6, 2), 2), ((1, 5), 6), ((4, 4), 5), ((3, 3), 2), ((5, 6), 4), ((6, 4), 2), ((6, 1), 4), ((2, 4), 2), ((6, 3), 5), ((4, 6), 5), ((1, 1), 1), ((5, 2), 1), ((1, 6), 4), ((4, 5), 3), ((5, 1), 4), ((5, 5), 6), ((5, 4), 6), ((3, 1), 4), ((6, 2), 4), ((3, 3), 4), ((5, 6), 6), ((6, 4), 4), ((6, 1), 6), ((2, 5), 4), ((1, 4), 1), ((1, 3), 6), ((5, 3), 1), ((2, 4), 4), ((3, 2), 2), ((2, 1), 3), ((5, 2), 3), ((1, 6), 6), ((4, 5), 5), ((3, 4), 2), ((5, 1), 6), ((4, 3), 3), ((3, 1), 6), ((6, 2), 6), ((1, 5), 1), ((2, 2), 1), ((1, 2), 3), ((4, 1), 2), ((3, 3), 6), ((2, 5), 6), ((3, 6), 2), ((5, 3), 3), ((1, 4), 3), ((2, 4), 6), ((3, 5), 2), ((4, 2), 2), ((3, 2), 4), ((2, 6), 2), ((2, 1), 5), ((5, 2), 5), ((3, 4), 4), ((5, 5), 1), ((5, 4), 1), ((4, 3), 5), ((1, 5), 3), ((2, 2), 3), ((5, 6), 1), ((1, 2), 5), ((4, 1), 4), ((6, 1), 1), ((4, 4), 2), ((1, 3), 1), ((6, 3), 2), ((4, 6), 2), ((3, 6), 4), ((1, 4), 5), ((3, 5), 4), ((4, 2), 4), ((3, 2), 6), ((2, 3), 6), ((2, 6), 4), ((1, 6), 1), ((5, 1), 1), ((3, 4), 6), ((5, 5), 3), ((5, 4), 3), ((3, 1), 1), ((1, 5), 5), ((2, 2), 5), ((3, 3), 1), ((6, 5), 2), ((4, 1), 6), ((6, 1), 3), ((2, 5), 1), ((4, 4), 4), ((1, 3), 3), ((2, 4), 1), ((6, 3), 4), ((4, 6), 4), ((3, 6), 6), ((4, 2), 6), ((2, 6), 6), ((3, 2), 1), ((1, 6), 3), ((4, 5), 2), ((5, 1), 3), ((5, 5), 5), ((1, 1), 3), ((3, 1), 3), ((4, 4), 6), ((3, 3), 3), ((6, 5), 4), ((2, 5), 3), ((1, 3), 5), ((2, 4), 3), ((4, 6), 6), ((2, 3), 1), ((6, 4), 6), ((2, 1), 2), ((5, 2), 2)}\n"
     ]
    }
   ],
   "source": [
    "A2 = product_set(A, A)\n",
    "A3 = product_set(A2, A)\n",
    "print(A3)"
   ]
  },
  {
   "cell_type": "code",
   "execution_count": 49,
   "metadata": {},
   "outputs": [
    {
     "name": "stdout",
     "output_type": "stream",
     "text": [
      "<class 'set'>\n",
      "216\n"
     ]
    }
   ],
   "source": [
    "print(type(A3)) # 튜플 안에 또 다른 튜플을 가지는 형태\n",
    "print(len(A3))"
   ]
  },
  {
   "cell_type": "code",
   "execution_count": 50,
   "metadata": {},
   "outputs": [],
   "source": [
    "case_3times = product_set(A, A2)"
   ]
  },
  {
   "cell_type": "code",
   "execution_count": 52,
   "metadata": {},
   "outputs": [
    {
     "name": "stdout",
     "output_type": "stream",
     "text": [
      "{(1, (4, 6)), (4, (6, 6)), (4, (5, 4)), (4, (3, 1)), (5, (3, 4)), (1, (2, 4)), (5, (2, 2)), (4, (3, 2)), (4, (6, 1)), (1, (4, 2)), (3, (4, 6)), (3, (2, 3)), (2, (4, 5)), (6, (6, 3)), (3, (2, 4)), (6, (5, 1)), (5, (6, 5)), (6, (4, 5)), (5, (5, 3)), (3, (4, 2)), (5, (3, 1)), (1, (6, 2)), (4, (4, 5)), (1, (1, 3)), (5, (6, 1)), (3, (6, 2)), (5, (5, 5)), (3, (1, 3)), (2, (3, 5)), (2, (1, 2)), (2, (6, 4)), (2, (5, 2)), (5, (4, 4)), (6, (3, 5)), (6, (1, 2)), (1, (2, 6)), (6, (6, 4)), (6, (2, 3)), (6, (5, 2)), (1, (1, 6)), (5, (1, 4)), (1, (4, 1)), (1, (5, 6)), (4, (1, 2)), (4, (6, 4)), (4, (5, 2)), (1, (3, 4)), (1, (2, 2)), (3, (2, 6)), (2, (2, 5)), (3, (1, 6)), (3, (4, 1)), (3, (5, 6)), (6, (2, 5)), (2, (4, 3)), (3, (3, 4)), (3, (1, 1)), (3, (2, 2)), (1, (6, 5)), (4, (2, 5)), (6, (4, 3)), (1, (5, 3)), (1, (3, 1)), (4, (4, 3)), (2, (6, 3)), (1, (6, 1)), (2, (5, 1)), (3, (6, 5)), (3, (5, 3)), (2, (1, 5)), (5, (3, 6)), (3, (3, 1)), (1, (5, 5)), (6, (1, 5)), (2, (3, 3)), (4, (6, 3)), (5, (6, 6)), (2, (2, 1)), (4, (5, 1)), (5, (5, 4)), (1, (4, 4)), (4, (1, 5)), (6, (3, 3)), (5, (3, 2)), (6, (2, 1)), (1, (1, 4)), (6, (1, 1)), (3, (5, 5)), (4, (3, 3)), (4, (2, 1)), (3, (4, 4)), (2, (4, 6)), (2, (2, 3)), (3, (1, 4)), (5, (6, 3)), (6, (4, 6)), (5, (4, 5)), (6, (2, 4)), (2, (4, 2)), (4, (3, 5)), (4, (4, 6)), (4, (2, 3)), (6, (4, 2)), (2, (6, 2)), (2, (1, 3)), (1, (3, 6)), (6, (6, 2)), (6, (1, 3)), (5, (3, 5)), (5, (1, 2)), (1, (6, 6)), (5, (6, 4)), (5, (2, 3)), (1, (5, 4)), (5, (5, 2)), (4, (6, 2)), (4, (1, 3)), (1, (3, 2)), (3, (3, 6)), (2, (2, 6)), (3, (6, 6)), (3, (5, 4)), (2, (1, 6)), (2, (4, 1)), (2, (5, 6)), (3, (3, 2)), (6, (2, 6)), (3, (6, 1)), (5, (2, 5)), (6, (1, 6)), (2, (3, 4)), (1, (6, 3)), (2, (1, 1)), (2, (2, 2)), (1, (5, 1)), (6, (5, 6)), (4, (2, 6)), (6, (4, 1)), (1, (4, 5)), (5, (4, 3)), (4, (1, 6)), (6, (3, 4)), (4, (4, 1)), (4, (5, 6)), (6, (2, 2)), (4, (3, 4)), (4, (1, 1)), (4, (2, 2)), (2, (6, 5)), (3, (4, 5)), (2, (5, 3)), (2, (2, 4)), (5, (5, 1)), (2, (3, 1)), (6, (6, 5)), (6, (5, 3)), (5, (1, 5)), (6, (3, 1)), (4, (6, 5)), (4, (5, 3)), (1, (3, 5)), (1, (1, 2)), (1, (6, 4)), (1, (2, 3)), (4, (2, 4)), (1, (5, 2)), (5, (3, 3)), (5, (2, 1)), (5, (1, 1)), (6, (6, 1)), (2, (5, 5)), (4, (4, 2)), (2, (4, 4)), (6, (5, 5)), (3, (3, 5)), (3, (1, 2)), (3, (6, 4)), (3, (5, 2)), (2, (1, 4)), (6, (4, 4)), (4, (5, 5)), (5, (4, 6)), (1, (2, 5)), (6, (1, 4)), (4, (4, 4)), (5, (2, 4)), (1, (4, 3)), (4, (1, 4)), (5, (4, 2)), (6, (5, 4)), (3, (2, 5)), (3, (4, 3)), (5, (6, 2)), (1, (1, 5)), (5, (1, 3)), (1, (3, 3)), (3, (6, 3)), (1, (2, 1)), (3, (5, 1)), (2, (3, 6)), (1, (1, 1)), (3, (1, 5)), (2, (6, 6)), (6, (3, 6)), (2, (5, 4)), (3, (3, 3)), (2, (3, 2)), (3, (2, 1)), (2, (6, 1)), (4, (3, 6)), (5, (2, 6)), (5, (1, 6)), (6, (6, 6)), (5, (4, 1)), (5, (5, 6)), (6, (3, 2))}\n"
     ]
    }
   ],
   "source": [
    "print(case_3times)"
   ]
  },
  {
   "cell_type": "code",
   "execution_count": 53,
   "metadata": {},
   "outputs": [
    {
     "ename": "TypeError",
     "evalue": "unsupported operand type(s) for +: 'int' and 'tuple'",
     "output_type": "error",
     "traceback": [
      "\u001b[1;31m---------------------------------------------------------------------------\u001b[0m",
      "\u001b[1;31mTypeError\u001b[0m                                 Traceback (most recent call last)",
      "\u001b[1;32m<ipython-input-53-50b626b48709>\u001b[0m in \u001b[0;36m<module>\u001b[1;34m\u001b[0m\n\u001b[1;32m----> 1\u001b[1;33m \u001b[0msums\u001b[0m \u001b[1;33m=\u001b[0m \u001b[1;33m[\u001b[0m\u001b[0msum\u001b[0m\u001b[1;33m(\u001b[0m\u001b[0mtup\u001b[0m\u001b[1;33m)\u001b[0m \u001b[1;32mfor\u001b[0m \u001b[0mtup\u001b[0m \u001b[1;32min\u001b[0m \u001b[0mcase_3times\u001b[0m\u001b[1;33m]\u001b[0m\u001b[1;33m\u001b[0m\u001b[1;33m\u001b[0m\u001b[0m\n\u001b[0m",
      "\u001b[1;32m<ipython-input-53-50b626b48709>\u001b[0m in \u001b[0;36m<listcomp>\u001b[1;34m(.0)\u001b[0m\n\u001b[1;32m----> 1\u001b[1;33m \u001b[0msums\u001b[0m \u001b[1;33m=\u001b[0m \u001b[1;33m[\u001b[0m\u001b[0msum\u001b[0m\u001b[1;33m(\u001b[0m\u001b[0mtup\u001b[0m\u001b[1;33m)\u001b[0m \u001b[1;32mfor\u001b[0m \u001b[0mtup\u001b[0m \u001b[1;32min\u001b[0m \u001b[0mcase_3times\u001b[0m\u001b[1;33m]\u001b[0m\u001b[1;33m\u001b[0m\u001b[1;33m\u001b[0m\u001b[0m\n\u001b[0m",
      "\u001b[1;31mTypeError\u001b[0m: unsupported operand type(s) for +: 'int' and 'tuple'"
     ]
    }
   ],
   "source": [
    "sums = [sum(tup) for tup in case_3times] # 중첩 튜플은 단순 sum() 함수 이용 불가"
   ]
  },
  {
   "cell_type": "code",
   "execution_count": 91,
   "metadata": {},
   "outputs": [
    {
     "name": "stdout",
     "output_type": "stream",
     "text": [
      "[11, 16, 13, 8, 12, 7, 9, 9, 11, 7, 13, 8, 11, 15, 9, 12, 16, 15, 13, 9, 9, 9, 13, 5, 12, 11, 15, 7, 10, 5, 12, 9, 13, 14, 9, 9, 16, 11, 13, 8, 10, 6, 12, 7, 14, 11, 8, 5, 11, 9, 10, 8, 14, 13, 9, 10, 5, 7, 12, 11, 13, 9, 5, 11, 11, 8, 8, 14, 11, 8, 14, 7, 11, 12, 8, 13, 17, 5, 10, 14, 9, 10, 12, 10, 9, 6, 8, 13, 10, 7, 11, 12, 7, 8, 14, 16, 14, 12, 8, 12, 14, 9, 12, 10, 6, 10, 14, 10, 13, 8, 13, 15, 10, 10, 12, 12, 8, 6, 12, 10, 15, 12, 9, 7, 13, 8, 14, 10, 12, 13, 9, 10, 4, 6, 7, 17, 12, 11, 10, 12, 11, 13, 9, 15, 10, 11, 6, 8, 13, 12, 10, 8, 11, 6, 17, 14, 11, 10, 15, 12, 9, 4, 11, 6, 10, 8, 11, 8, 7, 13, 12, 10, 10, 16, 11, 6, 13, 10, 7, 14, 14, 15, 8, 11, 12, 11, 8, 9, 11, 15, 10, 10, 13, 7, 9, 7, 12, 4, 9, 11, 3, 9, 14, 15, 11, 9, 7, 6, 9, 13, 13, 12, 18, 10, 16, 11]\n",
      "216\n"
     ]
    }
   ],
   "source": [
    "def tuple_sum(tup):\n",
    "    if isinstance(tup, int): # 정수형이 되면 그대로 반환\n",
    "        return tup\n",
    "    else:\n",
    "        accum = 0  # 초기화\n",
    "        for element in tup: # 정수가 아닌 경우\n",
    "            accum += tuple_sum(element) # 재귀 호출 (정수인 것만 반환)\n",
    "    return accum\n",
    "\n",
    "def product_set(set1, set2):\n",
    "    res = set()\n",
    "    for i in set1:\n",
    "        for j in set2:\n",
    "            res = res | {(i, j)} # 이중 루프를 이용한 곱집합\n",
    "    return res\n",
    "\n",
    "cases = {1, 2, 3, 4, 5, 6}\n",
    "cases_2times = product_set(cases, cases)\n",
    "cases_3times = product_set(cases, cases_2times)\n",
    "\n",
    "sums = [tuple_sum(tup) for tup in cases_3times]\n",
    "print(sums)\n",
    "print(len(sums))\n",
    "\n",
    "\n",
    "def exp(input_set, exponent):\n",
    "    res = input_set\n",
    "    for _ in range(exponent - 1):\n",
    "        res = product_set(res, input_set)\n",
    "    return res"
   ]
  },
  {
   "cell_type": "code",
   "execution_count": 79,
   "metadata": {},
   "outputs": [
    {
     "name": "stdout",
     "output_type": "stream",
     "text": [
      "True\n",
      "False\n",
      "True\n"
     ]
    }
   ],
   "source": [
    "print(isinstance('1.0', str))\n",
    "print(isinstance(A, tuple)) # A는 set\n",
    "print(isinstance(A, set))"
   ]
  },
  {
   "cell_type": "code",
   "execution_count": 80,
   "metadata": {},
   "outputs": [],
   "source": [
    "# LAB 6-12 복수로 주사위를 던졌을 때 특정 값 이상을 얻을 확률 구하기\n",
    "dice = {1, 2, 3, 4, 5, 6}\n",
    "dice_2times = product_set(dice, dice)"
   ]
  },
  {
   "cell_type": "code",
   "execution_count": 81,
   "metadata": {},
   "outputs": [
    {
     "name": "stdout",
     "output_type": "stream",
     "text": [
      "{(3, 4), (4, 3), (3, 1), (5, 4), (4, 6), (5, 1), (2, 2), (1, 6), (2, 5), (1, 3), (6, 2), (6, 5), (4, 2), (4, 5), (3, 3), (5, 6), (3, 6), (5, 3), (2, 4), (1, 2), (2, 1), (1, 5), (6, 1), (6, 4), (3, 2), (4, 1), (3, 5), (5, 2), (4, 4), (5, 5), (1, 1), (1, 4), (2, 3), (2, 6), (6, 6), (6, 3)}\n"
     ]
    }
   ],
   "source": [
    "print(dice_2times)"
   ]
  },
  {
   "cell_type": "code",
   "execution_count": 82,
   "metadata": {},
   "outputs": [
    {
     "name": "stdout",
     "output_type": "stream",
     "text": [
      "{(1, (4, 6)), (4, (6, 6)), (4, (5, 4)), (4, (3, 1)), (5, (3, 4)), (1, (2, 4)), (5, (2, 2)), (4, (3, 2)), (4, (6, 1)), (1, (4, 2)), (3, (4, 6)), (3, (2, 3)), (2, (4, 5)), (6, (6, 3)), (3, (2, 4)), (6, (5, 1)), (5, (6, 5)), (6, (4, 5)), (5, (5, 3)), (3, (4, 2)), (5, (3, 1)), (1, (6, 2)), (4, (4, 5)), (1, (1, 3)), (5, (6, 1)), (3, (6, 2)), (5, (5, 5)), (3, (1, 3)), (2, (3, 5)), (2, (1, 2)), (2, (6, 4)), (2, (5, 2)), (5, (4, 4)), (6, (3, 5)), (6, (1, 2)), (1, (2, 6)), (6, (6, 4)), (6, (2, 3)), (6, (5, 2)), (1, (1, 6)), (5, (1, 4)), (1, (4, 1)), (1, (5, 6)), (4, (1, 2)), (4, (6, 4)), (4, (5, 2)), (1, (3, 4)), (1, (2, 2)), (3, (2, 6)), (2, (2, 5)), (3, (1, 6)), (3, (4, 1)), (3, (5, 6)), (6, (2, 5)), (2, (4, 3)), (3, (3, 4)), (3, (1, 1)), (3, (2, 2)), (1, (6, 5)), (4, (2, 5)), (6, (4, 3)), (1, (5, 3)), (1, (3, 1)), (4, (4, 3)), (2, (6, 3)), (1, (6, 1)), (2, (5, 1)), (3, (6, 5)), (3, (5, 3)), (2, (1, 5)), (5, (3, 6)), (3, (3, 1)), (1, (5, 5)), (6, (1, 5)), (2, (3, 3)), (4, (6, 3)), (5, (6, 6)), (2, (2, 1)), (4, (5, 1)), (5, (5, 4)), (1, (4, 4)), (4, (1, 5)), (6, (3, 3)), (5, (3, 2)), (6, (2, 1)), (1, (1, 4)), (6, (1, 1)), (3, (5, 5)), (4, (3, 3)), (4, (2, 1)), (3, (4, 4)), (2, (4, 6)), (2, (2, 3)), (3, (1, 4)), (5, (6, 3)), (6, (4, 6)), (5, (4, 5)), (6, (2, 4)), (2, (4, 2)), (4, (3, 5)), (4, (4, 6)), (4, (2, 3)), (6, (4, 2)), (2, (6, 2)), (2, (1, 3)), (1, (3, 6)), (6, (6, 2)), (6, (1, 3)), (5, (3, 5)), (5, (1, 2)), (1, (6, 6)), (5, (6, 4)), (5, (2, 3)), (1, (5, 4)), (5, (5, 2)), (4, (6, 2)), (4, (1, 3)), (1, (3, 2)), (3, (3, 6)), (2, (2, 6)), (3, (6, 6)), (3, (5, 4)), (2, (1, 6)), (2, (4, 1)), (2, (5, 6)), (3, (3, 2)), (6, (2, 6)), (3, (6, 1)), (5, (2, 5)), (6, (1, 6)), (2, (3, 4)), (1, (6, 3)), (2, (1, 1)), (2, (2, 2)), (1, (5, 1)), (6, (5, 6)), (4, (2, 6)), (6, (4, 1)), (1, (4, 5)), (5, (4, 3)), (4, (1, 6)), (6, (3, 4)), (4, (4, 1)), (4, (5, 6)), (6, (2, 2)), (4, (3, 4)), (4, (1, 1)), (4, (2, 2)), (2, (6, 5)), (3, (4, 5)), (2, (5, 3)), (2, (2, 4)), (5, (5, 1)), (2, (3, 1)), (6, (6, 5)), (6, (5, 3)), (5, (1, 5)), (6, (3, 1)), (4, (6, 5)), (4, (5, 3)), (1, (3, 5)), (1, (1, 2)), (1, (6, 4)), (1, (2, 3)), (4, (2, 4)), (1, (5, 2)), (5, (3, 3)), (5, (2, 1)), (5, (1, 1)), (6, (6, 1)), (2, (5, 5)), (4, (4, 2)), (2, (4, 4)), (6, (5, 5)), (3, (3, 5)), (3, (1, 2)), (3, (6, 4)), (3, (5, 2)), (2, (1, 4)), (6, (4, 4)), (4, (5, 5)), (5, (4, 6)), (1, (2, 5)), (6, (1, 4)), (4, (4, 4)), (5, (2, 4)), (1, (4, 3)), (4, (1, 4)), (5, (4, 2)), (6, (5, 4)), (3, (2, 5)), (3, (4, 3)), (5, (6, 2)), (1, (1, 5)), (5, (1, 3)), (1, (3, 3)), (3, (6, 3)), (1, (2, 1)), (3, (5, 1)), (2, (3, 6)), (1, (1, 1)), (3, (1, 5)), (2, (6, 6)), (6, (3, 6)), (2, (5, 4)), (3, (3, 3)), (2, (3, 2)), (3, (2, 1)), (2, (6, 1)), (4, (3, 6)), (5, (2, 6)), (5, (1, 6)), (6, (6, 6)), (5, (4, 1)), (5, (5, 6)), (6, (3, 2))}\n"
     ]
    }
   ],
   "source": [
    "dice_3times = product_set(dice, dice_2times)\n",
    "print(dice_3times)"
   ]
  },
  {
   "cell_type": "code",
   "execution_count": 93,
   "metadata": {},
   "outputs": [
    {
     "name": "stdout",
     "output_type": "stream",
     "text": [
      "주사위를 세 번 던져 발생할 수 있는 사건은 216 가지 경우가 존재합니다.\n"
     ]
    }
   ],
   "source": [
    "print('주사위를 세 번 던져 발생할 수 있는 사건은 {} 가지 경우가 존재합니다.'.format(len(dice_3times)))"
   ]
  },
  {
   "cell_type": "code",
   "execution_count": 99,
   "metadata": {},
   "outputs": [
    {
     "name": "stdout",
     "output_type": "stream",
     "text": [
      "주사위를 세 번 던져 나온 눈의 합이 10 이상인 경우는 135 가지입니다.\n"
     ]
    }
   ],
   "source": [
    "def prob_over(tup, n):\n",
    "    accum = 0\n",
    "    for i in tup:\n",
    "        if tuple_sum(i) >= n:\n",
    "            accum += 1\n",
    "    return accum\n",
    "\n",
    "dice_sum = prob_over(dice_3times, 10)\n",
    "print('주사위를 세 번 던져 나온 눈의 합이 10 이상인 경우는 {} 가지입니다.'.format(dice_sum))"
   ]
  },
  {
   "cell_type": "code",
   "execution_count": 109,
   "metadata": {},
   "outputs": [
    {
     "name": "stdout",
     "output_type": "stream",
     "text": [
      "눈의 합으로 3 이상을 얻을 확률 100.00%\n",
      "눈의 합으로 4 이상을 얻을 확률 99.54%\n",
      "눈의 합으로 5 이상을 얻을 확률 98.15%\n",
      "눈의 합으로 6 이상을 얻을 확률 95.37%\n",
      "눈의 합으로 7 이상을 얻을 확률 90.74%\n",
      "눈의 합으로 8 이상을 얻을 확률 83.80%\n",
      "눈의 합으로 9 이상을 얻을 확률 74.07%\n",
      "눈의 합으로 10 이상을 얻을 확률 62.50%\n",
      "눈의 합으로 11 이상을 얻을 확률 50.00%\n",
      "눈의 합으로 12 이상을 얻을 확률 37.50%\n",
      "눈의 합으로 13 이상을 얻을 확률 25.93%\n",
      "눈의 합으로 14 이상을 얻을 확률 16.20%\n",
      "눈의 합으로 15 이상을 얻을 확률  9.26%\n",
      "눈의 합으로 16 이상을 얻을 확률  4.63%\n",
      "눈의 합으로 17 이상을 얻을 확률  1.85%\n",
      "눈의 합으로 18 이상을 얻을 확률  0.46%\n"
     ]
    }
   ],
   "source": [
    "for iterate in range(3,19):\n",
    "    res = prob_over(dice_3times, iterate)\n",
    "    prob = res / len(dice_3times) * 100\n",
    "    print('눈의 합으로 {} 이상을 얻을 확률 {:5.2f}%'.format(iterate, prob))"
   ]
  },
  {
   "cell_type": "code",
   "execution_count": 117,
   "metadata": {},
   "outputs": [
    {
     "name": "stdout",
     "output_type": "stream",
     "text": [
      "{3, 4, 5, 6, 7, 8, 9, 10, 11, 12, 13, 14, 15, 16, 17, 18}\n",
      "눈의 합으로 18 이상을 얻을 확률 100.00%\n",
      "눈의 합으로 18 이상을 얻을 확률 99.54%\n",
      "눈의 합으로 18 이상을 얻을 확률 98.15%\n",
      "눈의 합으로 18 이상을 얻을 확률 95.37%\n",
      "눈의 합으로 18 이상을 얻을 확률 90.74%\n",
      "눈의 합으로 18 이상을 얻을 확률 83.80%\n",
      "눈의 합으로 18 이상을 얻을 확률 74.07%\n",
      "눈의 합으로 18 이상을 얻을 확률 62.50%\n",
      "눈의 합으로 18 이상을 얻을 확률 50.00%\n",
      "눈의 합으로 18 이상을 얻을 확률 37.50%\n",
      "눈의 합으로 18 이상을 얻을 확률 25.93%\n",
      "눈의 합으로 18 이상을 얻을 확률 16.20%\n",
      "눈의 합으로 18 이상을 얻을 확률  9.26%\n",
      "눈의 합으로 18 이상을 얻을 확률  4.63%\n",
      "눈의 합으로 18 이상을 얻을 확률  1.85%\n",
      "눈의 합으로 18 이상을 얻을 확률  0.46%\n"
     ]
    }
   ],
   "source": [
    "# 집합에 결과값을 저장한 뒤 사용하는 경우\n",
    "inputs = {tuple_sum(tup) for tup in dice_3times} # 주사위 3번 던져 나온 결과값들의 합 종류\n",
    "print(inputs)\n",
    "\n",
    "for i in inputs:\n",
    "    res = prob_over(dice_3times, i)\n",
    "    prob = res / len(dice_3times) * 100\n",
    "    print('눈의 합으로 {} 이상을 얻을 확률 {:5.2f}%'.format(iterate, prob))"
   ]
  },
  {
   "cell_type": "code",
   "execution_count": 118,
   "metadata": {},
   "outputs": [
    {
     "data": {
      "text/plain": [
       "set()"
      ]
     },
     "execution_count": 118,
     "metadata": {},
     "output_type": "execute_result"
    }
   ],
   "source": [
    "empty_iterator = zip() # 인자가 전달되지 않은 경우\n",
    "result = set(empty_iterator)\n",
    "result"
   ]
  },
  {
   "cell_type": "code",
   "execution_count": 119,
   "metadata": {},
   "outputs": [
    {
     "name": "stdout",
     "output_type": "stream",
     "text": [
      "(10, 'ten')\n",
      "(20, 'twenty')\n",
      "(30, 'thirty')\n"
     ]
    }
   ],
   "source": [
    "a = [10, 20, 30] # 리스트\n",
    "b = ('ten', 'twenty', 'thirty') # 튜플\n",
    "for val in zip(a, b):\n",
    "    print(val) # 집적화"
   ]
  },
  {
   "cell_type": "code",
   "execution_count": 122,
   "metadata": {},
   "outputs": [
    {
     "name": "stdout",
     "output_type": "stream",
     "text": [
      "[('hello', 1, 400), ('world', 2, 500), ('python', 3, 600)]\n",
      "('hello', 'world', 'python') (1, 2, 3) (400, 500, 600)\n"
     ]
    }
   ],
   "source": [
    "str_list = ['hello', 'world', 'python', 'rocks']\n",
    "int_tuple = (1, 2, 3)\n",
    "int_list = [400, 500, 600, 700, 800]\n",
    "\n",
    "zip_lst = list(zip(str_list, int_tuple, int_list))\n",
    "a, b, c = zip(*zip_lst)\n",
    "print(zip_lst)\n",
    "print(a, b, c)"
   ]
  },
  {
   "cell_type": "code",
   "execution_count": 124,
   "metadata": {},
   "outputs": [
    {
     "data": {
      "text/plain": [
       "datetime.datetime(2021, 1, 20, 18, 29, 48, 727243)"
      ]
     },
     "execution_count": 124,
     "metadata": {},
     "output_type": "execute_result"
    }
   ],
   "source": [
    "import datetime as dt\n",
    "dt.datetime.now()"
   ]
  },
  {
   "cell_type": "code",
   "execution_count": 126,
   "metadata": {},
   "outputs": [],
   "source": [
    "today = dt.date.today()"
   ]
  },
  {
   "cell_type": "code",
   "execution_count": 127,
   "metadata": {},
   "outputs": [
    {
     "name": "stdout",
     "output_type": "stream",
     "text": [
      "2021-01-20\n"
     ]
    }
   ],
   "source": [
    "print(today)"
   ]
  },
  {
   "cell_type": "code",
   "execution_count": 129,
   "metadata": {},
   "outputs": [
    {
     "data": {
      "text/plain": [
       "1"
      ]
     },
     "execution_count": 129,
     "metadata": {},
     "output_type": "execute_result"
    }
   ],
   "source": [
    "today.year # 속성"
   ]
  },
  {
   "cell_type": "code",
   "execution_count": 130,
   "metadata": {},
   "outputs": [
    {
     "data": {
      "text/plain": [
       "1"
      ]
     },
     "execution_count": 130,
     "metadata": {},
     "output_type": "execute_result"
    }
   ],
   "source": [
    "today.month"
   ]
  },
  {
   "cell_type": "code",
   "execution_count": 131,
   "metadata": {},
   "outputs": [
    {
     "data": {
      "text/plain": [
       "20"
      ]
     },
     "execution_count": 131,
     "metadata": {},
     "output_type": "execute_result"
    }
   ],
   "source": [
    "today.day"
   ]
  },
  {
   "cell_type": "code",
   "execution_count": 143,
   "metadata": {},
   "outputs": [
    {
     "name": "stdout",
     "output_type": "stream",
     "text": [
      "['MAXYEAR', 'MINYEAR', '__builtins__', '__cached__', '__doc__', '__file__', '__loader__', '__name__', '__package__', '__spec__', 'date', 'datetime', 'datetime_CAPI', 'sys', 'time', 'timedelta', 'timezone', 'tzinfo']\n"
     ]
    }
   ],
   "source": [
    "print(dir(datetime)) # directory 안의 모든 파일을 출력"
   ]
  },
  {
   "cell_type": "code",
   "execution_count": 142,
   "metadata": {},
   "outputs": [
    {
     "name": "stdout",
     "output_type": "stream",
     "text": [
      "['__class__', '__delattr__', '__dir__', '__doc__', '__eq__', '__format__', '__ge__', '__getattribute__', '__gt__', '__hash__', '__init__', '__init_subclass__', '__le__', '__lt__', '__ne__', '__new__', '__reduce__', '__reduce_ex__', '__repr__', '__setattr__', '__sizeof__', '__str__', '__subclasshook__', 'dst', 'fold', 'fromisoformat', 'hour', 'isoformat', 'max', 'microsecond', 'min', 'minute', 'replace', 'resolution', 'second', 'strftime', 'tzinfo', 'tzname', 'utcoffset']\n"
     ]
    }
   ],
   "source": [
    "print(dir(dt.time)) # 클래스 내부 기능"
   ]
  },
  {
   "cell_type": "code",
   "execution_count": 148,
   "metadata": {},
   "outputs": [],
   "source": [
    "day1 = today.replace(month = 2, day = 1)"
   ]
  },
  {
   "cell_type": "code",
   "execution_count": 149,
   "metadata": {},
   "outputs": [
    {
     "data": {
      "text/plain": [
       "datetime.date(2021, 2, 1)"
      ]
     },
     "execution_count": 149,
     "metadata": {},
     "output_type": "execute_result"
    }
   ],
   "source": [
    "day1"
   ]
  },
  {
   "cell_type": "code",
   "execution_count": 151,
   "metadata": {},
   "outputs": [],
   "source": [
    "import random as rd\n",
    "import math as m\n",
    "import turtle as t"
   ]
  },
  {
   "cell_type": "code",
   "execution_count": 153,
   "metadata": {},
   "outputs": [],
   "source": [
    "from datetime import datetime as dt"
   ]
  },
  {
   "cell_type": "code",
   "execution_count": 155,
   "metadata": {},
   "outputs": [
    {
     "data": {
      "text/plain": [
       "datetime.datetime(2021, 1, 20, 18, 48, 46, 995035)"
      ]
     },
     "execution_count": 155,
     "metadata": {},
     "output_type": "execute_result"
    }
   ],
   "source": [
    "dt.now()"
   ]
  },
  {
   "cell_type": "code",
   "execution_count": 156,
   "metadata": {},
   "outputs": [
    {
     "data": {
      "text/plain": [
       "datetime.datetime(2021, 1, 20, 18, 50, 28, 581267)"
      ]
     },
     "execution_count": 156,
     "metadata": {},
     "output_type": "execute_result"
    }
   ],
   "source": [
    "today = datetime.now()\n",
    "today"
   ]
  },
  {
   "cell_type": "code",
   "execution_count": 161,
   "metadata": {},
   "outputs": [],
   "source": [
    "hour = today.hour\n",
    "month = today.month\n",
    "day = today.day\n",
    "year = today.year\n",
    "minute = today.minute\n",
    "second = today.second"
   ]
  },
  {
   "cell_type": "code",
   "execution_count": 166,
   "metadata": {},
   "outputs": [
    {
     "name": "stdout",
     "output_type": "stream",
     "text": [
      "오늘의 날짜 : 2021년 1월 20일\n",
      "현재시간 : 오후 6시 50분 28초\n"
     ]
    }
   ],
   "source": [
    "if today.hour >= 12:\n",
    "    p = '오후'\n",
    "    hour -= 12\n",
    "else:\n",
    "    p = '오전'\n",
    "\n",
    "print('오늘의 날짜 : {}년 {}월 {}일\\n현재시간 : {} {}시 {}분 {}초'.format(year, month, day, p, hour, minute, second))"
   ]
  },
  {
   "cell_type": "code",
   "execution_count": 179,
   "metadata": {},
   "outputs": [
    {
     "name": "stdout",
     "output_type": "stream",
     "text": [
      "오늘은 2021년 1월 20일입니다.\n",
      "다음 크리스마스까지는 338일 4시간 남았습니다.\n"
     ]
    }
   ],
   "source": [
    "import datetime as dt\n",
    "today = dt.datetime.now() # 연, 월, 일\n",
    "print('오늘은 {}년 {}월 {}일입니다.'.format(today.year, today.month, today.day))\n",
    "xMas = dt.datetime(2021, 12, 25)\n",
    "time_gap = xMas - dt.datetime.now() # 날짜끼리의 뻴셈 연산\n",
    "print('다음 크리스마스까지는 {}일 {}시간 남았습니다.'.format(time_gap.days, time_gap.seconds//3600))"
   ]
  },
  {
   "cell_type": "code",
   "execution_count": 177,
   "metadata": {},
   "outputs": [
    {
     "name": "stdout",
     "output_type": "stream",
     "text": [
      "['__abs__', '__add__', '__bool__', '__class__', '__delattr__', '__dir__', '__divmod__', '__doc__', '__eq__', '__floordiv__', '__format__', '__ge__', '__getattribute__', '__gt__', '__hash__', '__init__', '__init_subclass__', '__le__', '__lt__', '__mod__', '__mul__', '__ne__', '__neg__', '__new__', '__pos__', '__radd__', '__rdivmod__', '__reduce__', '__reduce_ex__', '__repr__', '__rfloordiv__', '__rmod__', '__rmul__', '__rsub__', '__rtruediv__', '__setattr__', '__sizeof__', '__str__', '__sub__', '__subclasshook__', '__truediv__', 'days', 'max', 'microseconds', 'min', 'resolution', 'seconds', 'total_seconds']\n"
     ]
    }
   ],
   "source": [
    "print(dir(time_gap))"
   ]
  },
  {
   "cell_type": "code",
   "execution_count": 189,
   "metadata": {},
   "outputs": [
    {
     "name": "stdout",
     "output_type": "stream",
     "text": [
      "다음 크리스마스까지는 28일 4시간 남았습니다.\n"
     ]
    }
   ],
   "source": [
    "start = dt.datetime(2021, 2, 18)\n",
    "time_gap = start - dt.datetime.now() # 날짜끼리의 뻴셈 연산\n",
    "print('다음 크리스마스까지는 {}일 {}시간 남았습니다.'.format(time_gap.days, time_gap.seconds//3600))"
   ]
  },
  {
   "cell_type": "code",
   "execution_count": 183,
   "metadata": {},
   "outputs": [
    {
     "name": "stdout",
     "output_type": "stream",
     "text": [
      "오늘 =  2021-01-20 19:16:40.789578\n",
      "100일 후 =  2021-04-30 19:16:40.790249\n"
     ]
    }
   ],
   "source": [
    "print('오늘 = ', dt.datetime.now()) # 현재시간\n",
    "hundred = dt.timedelta(days = 100) # 100일 경과 후 시간\n",
    "plus100day = dt.datetime.now() + hundred\n",
    "print('100일 후 = ', plus100day)"
   ]
  },
  {
   "cell_type": "code",
   "execution_count": 185,
   "metadata": {},
   "outputs": [
    {
     "name": "stdout",
     "output_type": "stream",
     "text": [
      "100 days, 0:00:00\n"
     ]
    }
   ],
   "source": [
    "print(hundred)"
   ]
  },
  {
   "cell_type": "code",
   "execution_count": 191,
   "metadata": {},
   "outputs": [
    {
     "name": "stdout",
     "output_type": "stream",
     "text": [
      "1000일 후의 날짜 = 2023-10-17 19:29:26.867879\n"
     ]
    }
   ],
   "source": [
    "thousand = dt.timedelta(days = 1000)\n",
    "plus1000days = dt.datetime.now() + thousand\n",
    "print('1000일 후의 날짜 =', plus1000days)"
   ]
  },
  {
   "cell_type": "code",
   "execution_count": 193,
   "metadata": {},
   "outputs": [
    {
     "name": "stdout",
     "output_type": "stream",
     "text": [
      "에폭 이후의 시간 = 1611138724.3248873\n"
     ]
    }
   ],
   "source": [
    "import time\n",
    "seconds = time.time()\n",
    "print('에폭 이후의 시간 =', seconds)"
   ]
  },
  {
   "cell_type": "code",
   "execution_count": 200,
   "metadata": {},
   "outputs": [
    {
     "name": "stdout",
     "output_type": "stream",
     "text": [
      "1611139205.1998255\n",
      "time.struct_time(tm_year=2021, tm_mon=1, tm_mday=20, tm_hour=19, tm_min=40, tm_sec=5, tm_wday=2, tm_yday=20, tm_isdst=0)\n",
      "2021-01-20 19:40:05\n"
     ]
    }
   ],
   "source": [
    "import time as t\n",
    "u_time = t.time() # 유닉스 시간\n",
    "print(u_time)\n",
    "local_time = time.localtime(u_time)\n",
    "print(local_time)\n",
    "print(time.strftime('%Y-%m-%d %H:%M:%S', local_time))"
   ]
  },
  {
   "cell_type": "code",
   "execution_count": null,
   "metadata": {},
   "outputs": [],
   "source": []
  }
 ],
 "metadata": {
  "kernelspec": {
   "display_name": "Python 3",
   "language": "python",
   "name": "python3"
  },
  "language_info": {
   "codemirror_mode": {
    "name": "ipython",
    "version": 3
   },
   "file_extension": ".py",
   "mimetype": "text/x-python",
   "name": "python",
   "nbconvert_exporter": "python",
   "pygments_lexer": "ipython3",
   "version": "3.8.5"
  }
 },
 "nbformat": 4,
 "nbformat_minor": 4
}
