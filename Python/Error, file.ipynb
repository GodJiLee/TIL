{
 "cells": [
  {
   "cell_type": "code",
   "execution_count": 18,
   "metadata": {},
   "outputs": [],
   "source": [
    "from tkinter import *\n",
    "\n",
    "window = Tk()\n",
    "\n",
    "label = Label(window, text = '체중(kg)과 키(cm)를 차례로 입력하세요.')\n",
    "label.pack()\n",
    "\n",
    "weight = Entry(window, width = 50)\n",
    "weight.pack()\n",
    "\n",
    "height = Entry(window, width = 50)\n",
    "height.pack()\n",
    "\n",
    "button = Button(window, text = 'BMI 계산', command = bmi_compute)\n",
    "button.pack()\n",
    "\n",
    "result = Label(window, text = '당신의 체질량 지수(BMI)는: ')\n",
    "result.pack()\n",
    "\n",
    "window.mainloop() # 이벤트 받을 수 있는 대기상태"
   ]
  },
  {
   "cell_type": "code",
   "execution_count": 9,
   "metadata": {},
   "outputs": [],
   "source": [
    "def entry_to_label(): # 입력값을 라벨로\n",
    "    str = input_entry.get()\n",
    "    label.config(text = str)\n",
    "    print(str)"
   ]
  },
  {
   "cell_type": "code",
   "execution_count": 17,
   "metadata": {},
   "outputs": [],
   "source": [
    "def bmi_compute():\n",
    "    w = float(weight.get())\n",
    "    h = float(height.get()) / 100.0  # m 단위 환산\n",
    "    bmi = w/(h*h) # 체질량지수 공식\n",
    "    \n",
    "    answer = '당신의 체질량 지수(BMI)는 : {:4.2f}'.format(bmi)\n",
    "    result.config(text = answer)"
   ]
  },
  {
   "cell_type": "code",
   "execution_count": 7,
   "metadata": {},
   "outputs": [],
   "source": [
    "from tkinter import *\n",
    "\n",
    "window = Tk()\n",
    "window.title('계산기')\n",
    "window.geometry('350x200')\n",
    "\n",
    "Label(window, text = '숫자 1').grid(column = 0, row = 0)\n",
    "Label(window, text = '숫지 2').grid(column = 0, row = 1)\n",
    "res_label = Label(window, text = '결과 :')\n",
    "res_label.grid(column = 0, row = 2)\n",
    "num1 = Entry(window, width = 10)\n",
    "num2 = Entry(window, width = 10)\n",
    "num1.grid(column = 1, row = 0)\n",
    "num2.grid(column = 1, row = 1)\n",
    "\n",
    "btn_plus = Button(window, text = '+', command = add)\n",
    "btn_minus = Button(window, text = '-', command = subtract)\n",
    "btn_mult = Button(window, text = '*', command = multiplication)\n",
    "btn_div = Button(window, text = '/', command = division)\n",
    "\n",
    "btn_plus.grid(column = 2, row = 1)\n",
    "btn_minus.grid(column = 3, row = 1)\n",
    "btn_mult.grid(column = 4, row = 1)\n",
    "btn_div.grid(column = 5, row = 1)\n",
    "window.mainloop()"
   ]
  },
  {
   "cell_type": "code",
   "execution_count": 4,
   "metadata": {},
   "outputs": [],
   "source": [
    "def add():\n",
    "    res_text = '결과 = ' + str(float(num1.get()) + float(num2.get()))\n",
    "    res_label.configure(text = res_text)\n",
    "    \n",
    "def subtract():\n",
    "    res_text = '결과 = ' + str(float(num1.get()) - float(num2.get()))\n",
    "    res_label.configure(text = res_text)\n",
    "\n",
    "def multiplication():\n",
    "    res_text = '결과 = ' + str(float(num1.get()) * float(num2.get()))\n",
    "    res_label.configure(text = res_text)\n",
    "\n",
    "def division():\n",
    "    res_text = '결과 = ' + str(float(num1.get()) / float(num2.get()))\n",
    "    res_label.configure(text = res_text)"
   ]
  },
  {
   "cell_type": "code",
   "execution_count": 1,
   "metadata": {},
   "outputs": [
    {
     "name": "stdin",
     "output_type": "stream",
     "text": [
      "두 수를 입력하시오:  10 0\n"
     ]
    }
   ],
   "source": [
    "a, b = input('두 수를 입력하시오: ').split()"
   ]
  },
  {
   "cell_type": "code",
   "execution_count": 2,
   "metadata": {},
   "outputs": [
    {
     "ename": "ZeroDivisionError",
     "evalue": "division by zero",
     "output_type": "error",
     "traceback": [
      "\u001b[1;31m---------------------------------------------------------------------------\u001b[0m",
      "\u001b[1;31mZeroDivisionError\u001b[0m                         Traceback (most recent call last)",
      "\u001b[1;32m<ipython-input-2-b10aaaf525c1>\u001b[0m in \u001b[0;36m<module>\u001b[1;34m\u001b[0m\n\u001b[1;32m----> 1\u001b[1;33m \u001b[0mresult\u001b[0m \u001b[1;33m=\u001b[0m \u001b[0mint\u001b[0m\u001b[1;33m(\u001b[0m\u001b[0ma\u001b[0m\u001b[1;33m)\u001b[0m \u001b[1;33m/\u001b[0m \u001b[0mint\u001b[0m\u001b[1;33m(\u001b[0m\u001b[0mb\u001b[0m\u001b[1;33m)\u001b[0m\u001b[1;33m\u001b[0m\u001b[1;33m\u001b[0m\u001b[0m\n\u001b[0m",
      "\u001b[1;31mZeroDivisionError\u001b[0m: division by zero"
     ]
    }
   ],
   "source": [
    "result = int(a) / int(b)"
   ]
  },
  {
   "cell_type": "code",
   "execution_count": 7,
   "metadata": {},
   "outputs": [
    {
     "name": "stdin",
     "output_type": "stream",
     "text": [
      "두 수를 입력하시오:  2 1\n"
     ]
    },
    {
     "name": "stdout",
     "output_type": "stream",
     "text": [
      "2 / 1 = 2.0\n"
     ]
    }
   ],
   "source": [
    "try:\n",
    "    a, b = input('두 수를 입력하시오: ').split()\n",
    "    result = int(a) / int(b) # 문제 발생 시\n",
    "    print('{} / {} = {}'.format(a, b, result)) # 이 문장은 실행 X\n",
    "except:\n",
    "    print('수가 정확한지 확인하세요.') # 예외 처리로 넘어감  "
   ]
  },
  {
   "cell_type": "code",
   "execution_count": 8,
   "metadata": {},
   "outputs": [
    {
     "name": "stdout",
     "output_type": "stream",
     "text": [
      "error: division by zero\n"
     ]
    }
   ],
   "source": [
    "try:\n",
    "    b = 2 / 0\n",
    "    a = 1 + 'hundred'\n",
    "except Exception as e: # e라는 별칭에 클래스 담음\n",
    "    print('error:', e)"
   ]
  },
  {
   "cell_type": "code",
   "execution_count": 9,
   "metadata": {},
   "outputs": [
    {
     "ename": "IndexError",
     "evalue": "list index out of range",
     "output_type": "error",
     "traceback": [
      "\u001b[1;31m---------------------------------------------------------------------------\u001b[0m",
      "\u001b[1;31mIndexError\u001b[0m                                Traceback (most recent call last)",
      "\u001b[1;32m<ipython-input-9-50dfc6796e4d>\u001b[0m in \u001b[0;36m<module>\u001b[1;34m\u001b[0m\n\u001b[0;32m      1\u001b[0m \u001b[0ma\u001b[0m \u001b[1;33m=\u001b[0m \u001b[1;33m[\u001b[0m\u001b[1;36m10\u001b[0m\u001b[1;33m,\u001b[0m \u001b[1;36m20\u001b[0m\u001b[1;33m,\u001b[0m \u001b[1;36m30\u001b[0m\u001b[1;33m]\u001b[0m\u001b[1;33m\u001b[0m\u001b[1;33m\u001b[0m\u001b[0m\n\u001b[1;32m----> 2\u001b[1;33m \u001b[0ma\u001b[0m\u001b[1;33m[\u001b[0m\u001b[1;36m3\u001b[0m\u001b[1;33m]\u001b[0m\u001b[1;33m\u001b[0m\u001b[1;33m\u001b[0m\u001b[0m\n\u001b[0m",
      "\u001b[1;31mIndexError\u001b[0m: list index out of range"
     ]
    }
   ],
   "source": [
    "a = [10, 20, 30] # Index Error\n",
    "a[3]"
   ]
  },
  {
   "cell_type": "code",
   "execution_count": 10,
   "metadata": {},
   "outputs": [
    {
     "ename": "ValueError",
     "evalue": "invalid literal for int() with base 10: '20%'",
     "output_type": "error",
     "traceback": [
      "\u001b[1;31m---------------------------------------------------------------------------\u001b[0m",
      "\u001b[1;31mValueError\u001b[0m                                Traceback (most recent call last)",
      "\u001b[1;32m<ipython-input-10-9ff1c6791fc8>\u001b[0m in \u001b[0;36m<module>\u001b[1;34m\u001b[0m\n\u001b[1;32m----> 1\u001b[1;33m \u001b[0mn\u001b[0m \u001b[1;33m=\u001b[0m \u001b[0mint\u001b[0m\u001b[1;33m(\u001b[0m\u001b[1;34m'20%'\u001b[0m\u001b[1;33m)\u001b[0m\u001b[1;33m\u001b[0m\u001b[1;33m\u001b[0m\u001b[0m\n\u001b[0m",
      "\u001b[1;31mValueError\u001b[0m: invalid literal for int() with base 10: '20%'"
     ]
    }
   ],
   "source": [
    "n = int('20%') # Value Error"
   ]
  },
  {
   "cell_type": "code",
   "execution_count": 12,
   "metadata": {},
   "outputs": [
    {
     "name": "stdout",
     "output_type": "stream",
     "text": [
      "문제가 발생했습니다.::: list index out of range\n"
     ]
    }
   ],
   "source": [
    "try:\n",
    "    a = [1, 2, 3]\n",
    "    a[3]\n",
    "except Exception as e:\n",
    "    print('문제가 발생했습니다.:::', e)"
   ]
  },
  {
   "cell_type": "code",
   "execution_count": 14,
   "metadata": {},
   "outputs": [
    {
     "name": "stdout",
     "output_type": "stream",
     "text": [
      "지원되지 않는 연산자를 사용하는 오류\n"
     ]
    }
   ],
   "source": [
    "try:\n",
    "    a = 1+'100'\n",
    "    b = 2/0\n",
    "except ZeroDivisionError:\n",
    "    print('0으로 나누는 오류')\n",
    "except TypeError:\n",
    "    print('지원되지 않는 연산자를 사용하는 오류')"
   ]
  },
  {
   "cell_type": "code",
   "execution_count": 15,
   "metadata": {},
   "outputs": [
    {
     "name": "stdout",
     "output_type": "stream",
     "text": [
      "예외발생 [Errno 2] No such file or directory: 'myfile.txt'\n"
     ]
    }
   ],
   "source": [
    "import sys\n",
    "try:\n",
    "    f = open('myfile.txt')\n",
    "    s = f.readline()\n",
    "except Exception as e:\n",
    "    print('예외발생', e)"
   ]
  },
  {
   "cell_type": "code",
   "execution_count": 16,
   "metadata": {},
   "outputs": [
    {
     "name": "stdout",
     "output_type": "stream",
     "text": [
      "divide(100, 2) 함수 호출:\n",
      "결과: 50.0\n",
      "수행 완료\n",
      "divide(100, 0) 함수 호출\n",
      "0으로 나누는 오류 발생\n",
      "수행 완료\n"
     ]
    }
   ],
   "source": [
    "def divide(x, y):\n",
    "    try:\n",
    "        result = x / y\n",
    "    except ZeroDivisionError:\n",
    "        print('0으로 나누는 오류 발생')\n",
    "    else:\n",
    "        print('결과:', result)\n",
    "    finally:\n",
    "        print('수행 완료')\n",
    "print('divide(100, 2) 함수 호출:')\n",
    "divide(100, 2)\n",
    "\n",
    "print('divide(100, 0) 함수 호출')\n",
    "divide(100, 0)"
   ]
  },
  {
   "cell_type": "code",
   "execution_count": 17,
   "metadata": {},
   "outputs": [
    {
     "name": "stdin",
     "output_type": "stream",
     "text": [
      "예/아니오 중 하나를 입력하세요: ddd\n"
     ]
    },
    {
     "name": "stdout",
     "output_type": "stream",
     "text": [
      "error:  입력을 확인하세요.\n"
     ]
    },
    {
     "name": "stdin",
     "output_type": "stream",
     "text": [
      "예/아니오 중 하나를 입력하세요: 예\n"
     ]
    },
    {
     "name": "stdout",
     "output_type": "stream",
     "text": [
      "정상적인 입력입니다.\n"
     ]
    }
   ],
   "source": [
    "def get_ans(ans):\n",
    "    if ans in ['예', '아니오']:\n",
    "        print('정상적인 입력입니다.')\n",
    "    else:\n",
    "        raise ValueError('입력을 확인하세요.')\n",
    "\n",
    "while True:\n",
    "    try:\n",
    "        ans = input('예/아니오 중 하나를 입력하세요:')\n",
    "        get_ans(ans)\n",
    "        break\n",
    "    except Exception as e:\n",
    "        print('error: ', e)"
   ]
  },
  {
   "cell_type": "code",
   "execution_count": 19,
   "metadata": {},
   "outputs": [],
   "source": [
    "f = open('hello.txt', 'w')\n",
    "f.write('hello world') # 문자열 저장\n",
    "f.close()"
   ]
  },
  {
   "cell_type": "code",
   "execution_count": 21,
   "metadata": {},
   "outputs": [
    {
     "ename": "FileNotFoundError",
     "evalue": "[Errno 2] No such file or directory: 'hello2.txt'",
     "output_type": "error",
     "traceback": [
      "\u001b[1;31m---------------------------------------------------------------------------\u001b[0m",
      "\u001b[1;31mFileNotFoundError\u001b[0m                         Traceback (most recent call last)",
      "\u001b[1;32m<ipython-input-21-81a22b3eec36>\u001b[0m in \u001b[0;36m<module>\u001b[1;34m\u001b[0m\n\u001b[1;32m----> 1\u001b[1;33m \u001b[0mf\u001b[0m \u001b[1;33m=\u001b[0m \u001b[0mopen\u001b[0m\u001b[1;33m(\u001b[0m\u001b[1;34m'hello2.txt'\u001b[0m\u001b[1;33m,\u001b[0m \u001b[1;34m'r'\u001b[0m\u001b[1;33m)\u001b[0m\u001b[1;33m\u001b[0m\u001b[1;33m\u001b[0m\u001b[0m\n\u001b[0m",
      "\u001b[1;31mFileNotFoundError\u001b[0m: [Errno 2] No such file or directory: 'hello2.txt'"
     ]
    }
   ],
   "source": [
    "f = open('hello2.txt', 'r')"
   ]
  },
  {
   "cell_type": "code",
   "execution_count": 22,
   "metadata": {},
   "outputs": [
    {
     "ename": "UnsupportedOperation",
     "evalue": "not writable",
     "output_type": "error",
     "traceback": [
      "\u001b[1;31m---------------------------------------------------------------------------\u001b[0m",
      "\u001b[1;31mUnsupportedOperation\u001b[0m                      Traceback (most recent call last)",
      "\u001b[1;32m<ipython-input-22-50eb98873c33>\u001b[0m in \u001b[0;36m<module>\u001b[1;34m\u001b[0m\n\u001b[0;32m      1\u001b[0m \u001b[0mf\u001b[0m \u001b[1;33m=\u001b[0m \u001b[0mopen\u001b[0m\u001b[1;33m(\u001b[0m\u001b[1;34m'hello.txt'\u001b[0m\u001b[1;33m,\u001b[0m \u001b[1;34m'r'\u001b[0m\u001b[1;33m)\u001b[0m\u001b[1;33m\u001b[0m\u001b[1;33m\u001b[0m\u001b[0m\n\u001b[1;32m----> 2\u001b[1;33m \u001b[0mf\u001b[0m\u001b[1;33m.\u001b[0m\u001b[0mwrite\u001b[0m\u001b[1;33m(\u001b[0m\u001b[1;34m'hello world!'\u001b[0m\u001b[1;33m)\u001b[0m\u001b[1;33m\u001b[0m\u001b[1;33m\u001b[0m\u001b[0m\n\u001b[0m\u001b[0;32m      3\u001b[0m \u001b[0mf\u001b[0m\u001b[1;33m.\u001b[0m\u001b[0mclose\u001b[0m\u001b[1;33m(\u001b[0m\u001b[1;33m)\u001b[0m\u001b[1;33m\u001b[0m\u001b[1;33m\u001b[0m\u001b[0m\n",
      "\u001b[1;31mUnsupportedOperation\u001b[0m: not writable"
     ]
    }
   ],
   "source": [
    "f = open('hello.txt', 'r')\n",
    "f.write('hello world!')\n",
    "f.close()"
   ]
  },
  {
   "cell_type": "code",
   "execution_count": 23,
   "metadata": {},
   "outputs": [],
   "source": [
    "f = open('hello.txt', 'a')\n",
    "f.write('hello world!')\n",
    "f.close()"
   ]
  },
  {
   "cell_type": "code",
   "execution_count": 25,
   "metadata": {},
   "outputs": [],
   "source": [
    "f = open('hello1.txt', 'w')\n",
    "f.write('100\\n')\n",
    "f.write('200\\n')\n",
    "f.write('300\\n')\n",
    "f.write('400\\n')\n",
    "f.close()"
   ]
  },
  {
   "cell_type": "code",
   "execution_count": 26,
   "metadata": {},
   "outputs": [],
   "source": [
    "f = open('we_will_rock.txt', 'w')\n",
    "f.write('Buddy, you\\'re a boy, make a big noise\\n')\n",
    "f.write('Playing in the street, gonna be a big man someday\\n')\n",
    "f.write('You got mud on your face, you big disgrace')\n",
    "f.close()"
   ]
  },
  {
   "cell_type": "code",
   "execution_count": 28,
   "metadata": {},
   "outputs": [
    {
     "name": "stdout",
     "output_type": "stream",
     "text": [
      "hello worldhello world!\n"
     ]
    }
   ],
   "source": [
    "f = open('hello.txt', 'r')\n",
    "s = f.read()\n",
    "print(s)\n",
    "f.close()"
   ]
  },
  {
   "cell_type": "code",
   "execution_count": 30,
   "metadata": {},
   "outputs": [
    {
     "name": "stdout",
     "output_type": "stream",
     "text": [
      "100\n",
      "2\n"
     ]
    }
   ],
   "source": [
    "g = open('hello1.txt', 'r')\n",
    "s = g.read(5)\n",
    "print(s)\n",
    "g.close()"
   ]
  },
  {
   "cell_type": "code",
   "execution_count": 35,
   "metadata": {},
   "outputs": [
    {
     "name": "stdout",
     "output_type": "stream",
     "text": [
      "100200"
     ]
    }
   ],
   "source": [
    "f = open('hello1.txt', 'r')\n",
    "s = f.readline().rstrip()\n",
    "print(s, end = '')\n",
    "s = f.readline().rstrip()\n",
    "print(s, end = '')"
   ]
  },
  {
   "cell_type": "code",
   "execution_count": 42,
   "metadata": {},
   "outputs": [
    {
     "ename": "UnicodeDecodeError",
     "evalue": "'utf-8' codec can't decode byte 0xc7 in position 20: invalid continuation byte",
     "output_type": "error",
     "traceback": [
      "\u001b[1;31m---------------------------------------------------------------------------\u001b[0m",
      "\u001b[1;31mUnicodeDecodeError\u001b[0m                        Traceback (most recent call last)",
      "\u001b[1;32m<ipython-input-42-17d12c1548bf>\u001b[0m in \u001b[0;36m<module>\u001b[1;34m\u001b[0m\n\u001b[0;32m      1\u001b[0m \u001b[0mf\u001b[0m \u001b[1;33m=\u001b[0m \u001b[0mopen\u001b[0m\u001b[1;33m(\u001b[0m\u001b[1;34m'hello1.txt'\u001b[0m\u001b[1;33m,\u001b[0m \u001b[1;34m'r'\u001b[0m\u001b[1;33m,\u001b[0m \u001b[0mencoding\u001b[0m \u001b[1;33m=\u001b[0m \u001b[1;34m'UTF8'\u001b[0m\u001b[1;33m)\u001b[0m\u001b[1;33m\u001b[0m\u001b[1;33m\u001b[0m\u001b[0m\n\u001b[0;32m      2\u001b[0m \u001b[0mn\u001b[0m \u001b[1;33m=\u001b[0m \u001b[1;36m1\u001b[0m\u001b[1;33m\u001b[0m\u001b[1;33m\u001b[0m\u001b[0m\n\u001b[1;32m----> 3\u001b[1;33m \u001b[0ml\u001b[0m \u001b[1;33m=\u001b[0m \u001b[0mf\u001b[0m\u001b[1;33m.\u001b[0m\u001b[0mreadline\u001b[0m\u001b[1;33m(\u001b[0m\u001b[1;33m)\u001b[0m\u001b[1;33m\u001b[0m\u001b[1;33m\u001b[0m\u001b[0m\n\u001b[0m\u001b[0;32m      4\u001b[0m \u001b[1;32mwhile\u001b[0m \u001b[0ml\u001b[0m\u001b[1;33m:\u001b[0m\u001b[1;33m\u001b[0m\u001b[1;33m\u001b[0m\u001b[0m\n\u001b[0;32m      5\u001b[0m     \u001b[0mprint\u001b[0m\u001b[1;33m(\u001b[0m\u001b[1;34m'{}'\u001b[0m\u001b[1;33m.\u001b[0m\u001b[0mformat\u001b[0m\u001b[1;33m(\u001b[0m\u001b[0ml\u001b[0m\u001b[1;33m)\u001b[0m\u001b[1;33m,\u001b[0m \u001b[0mend\u001b[0m \u001b[1;33m=\u001b[0m \u001b[1;34m''\u001b[0m\u001b[1;33m)\u001b[0m\u001b[1;33m\u001b[0m\u001b[1;33m\u001b[0m\u001b[0m\n",
      "\u001b[1;32mC:\\ProgramData\\Anaconda3\\lib\\codecs.py\u001b[0m in \u001b[0;36mdecode\u001b[1;34m(self, input, final)\u001b[0m\n\u001b[0;32m    320\u001b[0m         \u001b[1;31m# decode input (taking the buffer into account)\u001b[0m\u001b[1;33m\u001b[0m\u001b[1;33m\u001b[0m\u001b[1;33m\u001b[0m\u001b[0m\n\u001b[0;32m    321\u001b[0m         \u001b[0mdata\u001b[0m \u001b[1;33m=\u001b[0m \u001b[0mself\u001b[0m\u001b[1;33m.\u001b[0m\u001b[0mbuffer\u001b[0m \u001b[1;33m+\u001b[0m \u001b[0minput\u001b[0m\u001b[1;33m\u001b[0m\u001b[1;33m\u001b[0m\u001b[0m\n\u001b[1;32m--> 322\u001b[1;33m         \u001b[1;33m(\u001b[0m\u001b[0mresult\u001b[0m\u001b[1;33m,\u001b[0m \u001b[0mconsumed\u001b[0m\u001b[1;33m)\u001b[0m \u001b[1;33m=\u001b[0m \u001b[0mself\u001b[0m\u001b[1;33m.\u001b[0m\u001b[0m_buffer_decode\u001b[0m\u001b[1;33m(\u001b[0m\u001b[0mdata\u001b[0m\u001b[1;33m,\u001b[0m \u001b[0mself\u001b[0m\u001b[1;33m.\u001b[0m\u001b[0merrors\u001b[0m\u001b[1;33m,\u001b[0m \u001b[0mfinal\u001b[0m\u001b[1;33m)\u001b[0m\u001b[1;33m\u001b[0m\u001b[1;33m\u001b[0m\u001b[0m\n\u001b[0m\u001b[0;32m    323\u001b[0m         \u001b[1;31m# keep undecoded input until the next call\u001b[0m\u001b[1;33m\u001b[0m\u001b[1;33m\u001b[0m\u001b[1;33m\u001b[0m\u001b[0m\n\u001b[0;32m    324\u001b[0m         \u001b[0mself\u001b[0m\u001b[1;33m.\u001b[0m\u001b[0mbuffer\u001b[0m \u001b[1;33m=\u001b[0m \u001b[0mdata\u001b[0m\u001b[1;33m[\u001b[0m\u001b[0mconsumed\u001b[0m\u001b[1;33m:\u001b[0m\u001b[1;33m]\u001b[0m\u001b[1;33m\u001b[0m\u001b[1;33m\u001b[0m\u001b[0m\n",
      "\u001b[1;31mUnicodeDecodeError\u001b[0m: 'utf-8' codec can't decode byte 0xc7 in position 20: invalid continuation byte"
     ]
    }
   ],
   "source": [
    "f = open('hello1.txt', 'r', encoding = 'UTF8')\n",
    "n = 1\n",
    "l = f.readline()\n",
    "while l:\n",
    "    print('{}'.format(l), end = '')\n",
    "    n += 1\n",
    "    l = f.readline()\n",
    "\n",
    "f.close()"
   ]
  },
  {
   "cell_type": "code",
   "execution_count": 1,
   "metadata": {},
   "outputs": [
    {
     "name": "stdin",
     "output_type": "stream",
     "text": [
      "입력할 파일의 이름: hello.txt\n"
     ]
    },
    {
     "name": "stdout",
     "output_type": "stream",
     "text": [
      "HELLO WORLDHELLO WORLD!"
     ]
    }
   ],
   "source": [
    "fname = input('입력할 파일의 이름:')\n",
    "f = open(fname, 'r')\n",
    "l = f.readline()\n",
    "while l:\n",
    "    l = l.upper()\n",
    "    print('{}'.format(l), end = '')\n",
    "    l = f.readline()\n",
    "f.close()"
   ]
  },
  {
   "cell_type": "code",
   "execution_count": 7,
   "metadata": {},
   "outputs": [
    {
     "name": "stdin",
     "output_type": "stream",
     "text": [
      "입력할 파일의 이름은:  hello.txt\n"
     ]
    },
    {
     "name": "stdout",
     "output_type": "stream",
     "text": [
      "hi\n",
      "we will we will rock you,\n",
      "hello worldhello world!\n"
     ]
    }
   ],
   "source": [
    "fname = input('입력할 파일의 이름은: ')\n",
    "for line in reversed(list(open(fname))):\n",
    "    print(line.rstrip()) # 한글은 지원 X"
   ]
  },
  {
   "cell_type": "code",
   "execution_count": 11,
   "metadata": {},
   "outputs": [
    {
     "name": "stdin",
     "output_type": "stream",
     "text": [
      "입력 파일명:  hello.txt\n"
     ]
    },
    {
     "name": "stdout",
     "output_type": "stream",
     "text": [
      "  1:hello worldhello world!\n",
      "  2:we will we will rock you,\n",
      "  3:hifile access succesful? True\n"
     ]
    }
   ],
   "source": [
    "import sys\n",
    "success = True # 초기화\n",
    "fname = input('입력 파일명: ')\n",
    "try:\n",
    "    f = open(fname, 'r', encoding = 'UTF8')\n",
    "except IOError: # 입출력 에러\n",
    "    print('Could not read file:', fname)\n",
    "    success = False\n",
    "except:\n",
    "    print('Unexpected error:', sys.exc_info()[0])\n",
    "    success = False\n",
    "\n",
    "if success: # 오류 미발생시\n",
    "    n = 1\n",
    "    l = f.readline()\n",
    "    while l:\n",
    "        print('{:3d}:{}'.format(n, l), end = '')\n",
    "        n += 1\n",
    "        l = f.readline()\n",
    "        \n",
    "    f.close\n",
    "print('file access succesful?', success)"
   ]
  },
  {
   "cell_type": "code",
   "execution_count": 13,
   "metadata": {},
   "outputs": [
    {
     "name": "stdin",
     "output_type": "stream",
     "text": [
      "입력 파일명:  hello.txt\n"
     ]
    },
    {
     "name": "stdout",
     "output_type": "stream",
     "text": [
      "  1:hello worldhello world!\n",
      "  2:we will we will rock you,\n",
      "  3:hifile access succesful? True\n"
     ]
    }
   ],
   "source": [
    "import sys\n",
    "success = True # 초기화\n",
    "fname = input('입력 파일명: ')\n",
    "try:\n",
    "    with open(fname, 'r', encoding = 'UTF8') as f:\n",
    "        n = 1\n",
    "        l = f.readline()\n",
    "        while l:\n",
    "            print('{:3d}:{}'.format(n, l), end = '')\n",
    "            n += 1\n",
    "            l = f.readline()\n",
    "        \n",
    "except IOError: # 입출력 에러\n",
    "    print('Could not read file:', fname)\n",
    "    success = False\n",
    "except:\n",
    "    print('Unexpected error:', sys.exc_info()[0])\n",
    "    success = False\n",
    "        \n",
    "# f.close()\n",
    "print('file access succesful?', success)"
   ]
  },
  {
   "cell_type": "code",
   "execution_count": null,
   "metadata": {},
   "outputs": [],
   "source": []
  }
 ],
 "metadata": {
  "kernelspec": {
   "display_name": "Python 3",
   "language": "python",
   "name": "python3"
  },
  "language_info": {
   "codemirror_mode": {
    "name": "ipython",
    "version": 3
   },
   "file_extension": ".py",
   "mimetype": "text/x-python",
   "name": "python",
   "nbconvert_exporter": "python",
   "pygments_lexer": "ipython3",
   "version": "3.8.5"
  }
 },
 "nbformat": 4,
 "nbformat_minor": 4
}
