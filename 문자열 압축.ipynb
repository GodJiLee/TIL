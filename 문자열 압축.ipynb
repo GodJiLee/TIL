{
  "nbformat": 4,
  "nbformat_minor": 0,
  "metadata": {
    "colab": {
      "name": "Untitled16.ipynb",
      "provenance": []
    },
    "kernelspec": {
      "name": "python3",
      "display_name": "Python 3"
    }
  },
  "cells": [
    {
      "cell_type": "code",
      "metadata": {
        "id": "MrHlHmz8qfiS"
      },
      "source": [
        "def solution(s):\n",
        "    answer = len(s)\n",
        "\n",
        "    for i in range(1, len(s)):\n",
        "        string = \"\"\n",
        "        prev = s[0:i]\n",
        "        count = 1\n",
        "        for j in range(i, len(s), i):\n",
        "            if prev == s[j:j+i]:\n",
        "                count += 1\n",
        "            else:\n",
        "                string += str(count) + prev if count >= 2 else prev\n",
        "                prev = s[j:j+i]\n",
        "                count = 1\n",
        "        string += str(count) + prev if count >= 2 else prev\n",
        "        answer = min(answer, len(string))\n",
        "\n",
        "    return answer"
      ],
      "execution_count": 3,
      "outputs": []
    },
    {
      "cell_type": "code",
      "metadata": {
        "id": "2JfncrCwqgPv",
        "outputId": "512f5c35-eef1-4de1-e037-f70a35f7994b",
        "colab": {
          "base_uri": "https://localhost:8080/"
        }
      },
      "source": [
        "solution(\"aabbccccc\")"
      ],
      "execution_count": 4,
      "outputs": [
        {
          "output_type": "execute_result",
          "data": {
            "text/plain": [
              "6"
            ]
          },
          "metadata": {
            "tags": []
          },
          "execution_count": 4
        }
      ]
    },
    {
      "cell_type": "code",
      "metadata": {
        "id": "cZhYm7qctP8f" 
      },
      "source": [
        ""
      ],
      "execution_count": null,
      "outputs": []
    }
  ]
}
