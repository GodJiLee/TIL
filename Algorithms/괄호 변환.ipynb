{
  "nbformat": 4,
  "nbformat_minor": 0,
  "metadata": {
    "colab": {
      "name": "Untitled17.ipynb",
      "provenance": []
    },
    "kernelspec": {
      "name": "python3",
      "display_name": "Python 3"
    }
  },
  "cells": [
    {
      "cell_type": "code",
      "metadata": {
        "id": "nRdxdj1jPjGd" 
      },
      "source": [
        "def pair(p):\n",
        "    count = 0\n",
        "    for i in range(len(p)):\n",
        "        if p[i] == \"(\":\n",
        "            count += 1\n",
        "        else:\n",
        "            if count == 0:\n",
        "                return False\n",
        "            count -= -1\n",
        "    return True\n",
        "\n",
        "def balance(p):\n",
        "    count = 0\n",
        "    for i in range(len(p)):\n",
        "        if p[i] == \"(\":\n",
        "            count += 1\n",
        "        else:\n",
        "            count -= 1\n",
        "        if count == 0:\n",
        "            return i\n",
        "\n",
        "        \n",
        "        \n",
        "def solution(p):\n",
        "    answer = ''\n",
        "    if p == '':\n",
        "        return answer\n",
        "\n",
        "    index = balance(p)\n",
        "\n",
        "    u = p[:index + 1]\n",
        "    v = p[index + 1:]\n",
        "\n",
        "    if pair(u):\n",
        "        answer = u + solution(v)\n",
        "    else:\n",
        "        answer += \"(\"\n",
        "        answer += solution(v) \n",
        "        answer += \")\"\n",
        "\n",
        "        u = list(u[1:-1])\n",
        "\n",
        "        for i in range(len(u)):\n",
        "            if u[i] == '(':\n",
        "                u[i] = ')'\n",
        "            else:\n",
        "                u[i] = '('\n",
        "        \n",
        "        answer += \"\".join(u)\n",
        "    \n",
        "    return answer"
      ],
      "execution_count": null,
      "outputs": []
    }
  ]
}
