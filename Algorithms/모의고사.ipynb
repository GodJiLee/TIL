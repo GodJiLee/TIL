{
  "nbformat": 4,
  "nbformat_minor": 0,
  "metadata": {
    "colab": {
      "name": "Untitled14.ipynb",
      "provenance": []
    },
    "kernelspec": {
      "name": "python3",
      "display_name": "Python 3"
    }
  },
  "cells": [
    {
      "cell_type": "code",
      "metadata": {
        "id": "jtjk7jha618I"
      },
      "source": [
        "def solution(answers):\n",
        "    mark = [0, 0, 0]\n",
        "    math = [[1, 2, 3, 4, 5], [2, 1, 2, 3, 2, 4, 2, 5], [3, 3, 1, 1, 2, 2, 4, 4, 5, 5]]\n",
        "    answer = []\n",
        "\n",
        "    for i in range(len(math)):\n",
        "        for j in range(len(answers)):\n",
        "            length = len(math[i])\n",
        "            if answers[j] == math[i%length][j]:\n",
        "                mark[i] += 1\n",
        "    \n",
        "    for person, score in enumerate(mark):\n",
        "        if score == max(mark):\n",
        "            answer.append(person+1)\n",
        "\n",
        "    return answer"
      ],
      "execution_count": 1,
      "outputs": []
    },
    {
      "cell_type": "code",
      "metadata": {
        "id": "YanZLABN63tT",
        "outputId": "4c51fa88-4efb-48bf-e4d6-7d319d6234eb",
        "colab": {
          "base_uri": "https://localhost:8080/"
        }
      },
      "source": [
        "solution([1, 3, 2, 4, 2])"
      ],
      "execution_count": 2,
      "outputs": [
        {
          "output_type": "execute_result",
          "data": {
            "text/plain": [
              "[1, 2, 3]"
            ]
          },
          "metadata": {
            "tags": []
          },
          "execution_count": 2
        }
      ]
    },
    {
      "cell_type": "code",
      "metadata": {
        "id": "JFAcl6yV64JI"
      },
      "source": [
        ""
      ],
      "execution_count": null,
      "outputs": []
    }
  ]
}
