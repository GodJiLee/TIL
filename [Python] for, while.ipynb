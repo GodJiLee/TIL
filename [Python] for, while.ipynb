{
 "cells": [
  {
   "cell_type": "code",
   "execution_count": 32,
   "metadata": {},
   "outputs": [
    {
     "name": "stdout",
     "output_type": "stream",
     "text": [
      "    +\n",
      "   +++\n",
      "  +++++\n",
      " +++++++\n",
      "+++++++++\n"
     ]
    }
   ],
   "source": [
    "n = 5\n",
    "for i in range(5):\n",
    "    for j in range(n-(i+1)):\n",
    "        print(' ', end = '')\n",
    "    for j in range(2*i+1):\n",
    "        print('+', end = '')\n",
    "    print()"
   ]
  },
  {
   "cell_type": "code",
   "execution_count": 26,
   "metadata": {},
   "outputs": [
    {
     "name": "stdout",
     "output_type": "stream",
     "text": [
      "    +\n",
      "   +++\n",
      "  +++++\n",
      " +++++++\n",
      "+++++++++\n"
     ]
    }
   ],
   "source": [
    "n = 5\n",
    "for i in range(5):\n",
    "    print(' ' * (n-(i+1)), end = '')\n",
    "    print('+' * (2*i+1))"
   ]
  },
  {
   "cell_type": "code",
   "execution_count": 69,
   "metadata": {},
   "outputs": [
    {
     "name": "stdout",
     "output_type": "stream",
     "text": [
      "[2, 3, 5, 7, 11, 13, 17, 19, 23, 29, 31, 37, 41, 43, 47, 53, 59, 61, 67, 71, 73, 79, 83, 89, 97]\n"
     ]
    }
   ],
   "source": [
    "primes = []\n",
    "for n in range(2, 101):\n",
    "    is_prime = True\n",
    "    for number in range(2, n):\n",
    "        if n % number == 0:\n",
    "            is_prime = False\n",
    "            \n",
    "    if is_prime:\n",
    "        primes.append(n)\n",
    "print(primes)"
   ]
  },
  {
   "cell_type": "code",
   "execution_count": 70,
   "metadata": {},
   "outputs": [
    {
     "name": "stdin",
     "output_type": "stream",
     "text": [
      "가위, 바위, 보 중에 선택하세요> 묵\n",
      "가위, 바위, 보 중에 선택하세요> 찌\n",
      "가위, 바위, 보 중에 선택하세요> 빠\n",
      "가위, 바위, 보 중에 선택하세요> 가위\n"
     ]
    },
    {
     "name": "stdout",
     "output_type": "stream",
     "text": [
      "선택한 값은: 가위\n"
     ]
    }
   ],
   "source": [
    "selected = None\n",
    "while selected not in ['가위', '바위', '보']:\n",
    "    selected = input('가위, 바위, 보 중에 선택하세요>')\n",
    "print('선택한 값은:', selected)"
   ]
  },
  {
   "cell_type": "code",
   "execution_count": 73,
   "metadata": {},
   "outputs": [
    {
     "name": "stdin",
     "output_type": "stream",
     "text": [
      "합계를 구할 양의 정수를 입력하세요: -10\n",
      "합계를 구할 양의 정수를 입력하세요: 0\n",
      "합계를 구할 양의 정수를 입력하세요: 100\n"
     ]
    },
    {
     "name": "stdout",
     "output_type": "stream",
     "text": [
      "1부터 100까지의 합은 5050\n"
     ]
    }
   ],
   "source": [
    ">>> n = -1\n",
    ">>> while n <= 0:\n",
    "\tn = int(input('합계를 구할 양의 정수를 입력하세요:'))\n",
    "    \n",
    ">>> s = 0\n",
    ">>> for i in range(n+1):\n",
    "\ts += i\n",
    "    \n",
    ">>> print('1부터 {}까지의 합은 {}'.format(n, s))"
   ]
  },
  {
   "cell_type": "code",
   "execution_count": 77,
   "metadata": {},
   "outputs": [
    {
     "name": "stdout",
     "output_type": "stream",
     "text": [
      "P\n",
      "r\n",
      "The end\n"
     ]
    }
   ],
   "source": [
    "st = 'Programming'\n",
    "for ch in st:\n",
    "    if ch in ['a', 'e', 'i', 'o', 'u']:\n",
    "        break\n",
    "    print(ch)\n",
    "print('The end')"
   ]
  },
  {
   "cell_type": "code",
   "execution_count": 80,
   "metadata": {},
   "outputs": [
    {
     "name": "stdout",
     "output_type": "stream",
     "text": [
      "P\n",
      "r\n",
      "g\n",
      "r\n",
      "m\n",
      "m\n",
      "n\n",
      "g\n",
      "The end\n"
     ]
    }
   ],
   "source": [
    "for ch in st:\n",
    "    if ch in ['a', 'e', 'i', 'o', 'u']:\n",
    "        continue\n",
    "    print(ch)\n",
    "\n",
    "print('The end')"
   ]
  },
  {
   "cell_type": "code",
   "execution_count": 83,
   "metadata": {},
   "outputs": [
    {
     "name": "stdout",
     "output_type": "stream",
     "text": [
      "******************\n",
      "******************\n",
      "******************\n",
      "******************\n",
      "******************\n",
      "******************\n",
      "******************\n",
      "******************\n",
      "******************\n",
      "******************\n"
     ]
    }
   ],
   "source": [
    ">>> def print_stars5():\n",
    "    print('******************')\n",
    "    print('******************')\n",
    "    print('******************')\n",
    "    print('******************')\n",
    "    print('******************')\n",
    "\n",
    ">>> print_stars5()\n",
    ">>> print_stars5()"
   ]
  },
  {
   "cell_type": "code",
   "execution_count": 84,
   "metadata": {},
   "outputs": [
    {
     "name": "stdout",
     "output_type": "stream",
     "text": [
      "#########################\n",
      "*************************\n",
      "+++++++++++++++++++++++++\n",
      "+++++++++++++++++++++++++\n",
      "*************************\n",
      "#########################\n"
     ]
    }
   ],
   "source": [
    "# 문항 1\n",
    ">>> def print_star():\n",
    "\tprint('*************************')\n",
    ">>> def print_plus():\n",
    "\tprint('+++++++++++++++++++++++++')\n",
    "\n",
    ">>> def print_hash():\n",
    "\tprint('#########################')\n",
    "    \n",
    "\n",
    "# 문항 2\n",
    ">>> print_hash()\n",
    ">>> print_star()\n",
    ">>> print_plus()\n",
    ">>> print_plus()\n",
    ">>> print_star()\n",
    ">>> print_hash()"
   ]
  },
  {
   "cell_type": "code",
   "execution_count": 86,
   "metadata": {},
   "outputs": [
    {
     "name": "stdout",
     "output_type": "stream",
     "text": [
      "****************\n",
      "****************\n",
      "****************\n",
      "****************\n",
      "****************\n",
      "****************\n",
      "****************\n",
      "****************\n",
      "****************\n",
      "****************\n"
     ]
    }
   ],
   "source": [
    ">>> def print_star(n):\n",
    "    for _ in range(n):\n",
    "        print('****************')\n",
    "        \n",
    ">>> print_star(10)"
   ]
  },
  {
   "cell_type": "code",
   "execution_count": 88,
   "metadata": {},
   "outputs": [
    {
     "name": "stdout",
     "output_type": "stream",
     "text": [
      "###############\n",
      "###############\n",
      "###############\n",
      "###############\n",
      "###############\n",
      "###############\n",
      "###############\n",
      "###############\n",
      "###############\n",
      "###############\n"
     ]
    }
   ],
   "source": [
    ">>> def print_hash(n):\n",
    "    for _ in range(n):\n",
    "        print('###############')\n",
    "        \n",
    ">>> print_hash(10)"
   ]
  },
  {
   "cell_type": "code",
   "execution_count": 89,
   "metadata": {},
   "outputs": [
    {
     "name": "stdout",
     "output_type": "stream",
     "text": [
      "###############\n",
      "###############\n",
      "###############\n",
      "###############\n",
      "###############\n",
      "###############\n"
     ]
    }
   ],
   "source": [
    ">>> print_hash(6)\n"
   ]
  },
  {
   "cell_type": "code",
   "execution_count": 91,
   "metadata": {},
   "outputs": [
    {
     "name": "stdout",
     "output_type": "stream",
     "text": [
      "0 ###############\n",
      "1 ###############\n",
      "2 ###############\n",
      "3 ###############\n",
      "4 ###############\n",
      "5 ###############\n"
     ]
    }
   ],
   "source": [
    ">>> def print_hash(n):\n",
    "    for _ in range(n):\n",
    "        print(_, '###############')\n",
    "        \n",
    ">>> print_hash(6)"
   ]
  },
  {
   "cell_type": "code",
   "execution_count": 94,
   "metadata": {},
   "outputs": [
    {
     "name": "stdout",
     "output_type": "stream",
     "text": [
      "10 과 20 의 합은 30 입니다.\n",
      "100 과 200 의 합은 300 입니다.\n"
     ]
    }
   ],
   "source": [
    ">>> def print_sum(a, b):\n",
    "    result = a + b\n",
    "    print(a, '과', b, '의 합은', result, '입니다.')\n",
    ">>> print_sum(10, 20)\n",
    ">>> print_sum(100, 200)"
   ]
  },
  {
   "cell_type": "code",
   "execution_count": 95,
   "metadata": {},
   "outputs": [
    {
     "ename": "TypeError",
     "evalue": "print_sum() missing 1 required positional argument: 'b'",
     "output_type": "error",
     "traceback": [
      "\u001b[1;31m---------------------------------------------------------------------------\u001b[0m",
      "\u001b[1;31mTypeError\u001b[0m                                 Traceback (most recent call last)",
      "\u001b[1;32m<ipython-input-95-b12409da2eea>\u001b[0m in \u001b[0;36m<module>\u001b[1;34m\u001b[0m\n\u001b[1;32m----> 1\u001b[1;33m \u001b[0mprint_sum\u001b[0m\u001b[1;33m(\u001b[0m\u001b[1;36m100\u001b[0m\u001b[1;33m)\u001b[0m\u001b[1;33m\u001b[0m\u001b[1;33m\u001b[0m\u001b[0m\n\u001b[0m",
      "\u001b[1;31mTypeError\u001b[0m: print_sum() missing 1 required positional argument: 'b'"
     ]
    }
   ],
   "source": [
    ">>> print_sum(100)"
   ]
  },
  {
   "cell_type": "code",
   "execution_count": 118,
   "metadata": {},
   "outputs": [],
   "source": [
    ">>> def print_sub(a, b):\n",
    "    result = a - b\n",
    "    print('{}와 {}의 차는 {}입니다.'.format(a, b, result))"
   ]
  },
  {
   "cell_type": "code",
   "execution_count": 119,
   "metadata": {},
   "outputs": [
    {
     "name": "stdout",
     "output_type": "stream",
     "text": [
      "10와 20의 차는 -10입니다.\n"
     ]
    }
   ],
   "source": [
    "print_sub(10, 20)"
   ]
  },
  {
   "cell_type": "code",
   "execution_count": 112,
   "metadata": {},
   "outputs": [],
   "source": [
    ">>> def print_mult(a, b):\n",
    "    result = a * b\n",
    "    print('{}와 {}의 곱은 {}입니다.'.format(a, b, result))"
   ]
  },
  {
   "cell_type": "code",
   "execution_count": 113,
   "metadata": {},
   "outputs": [
    {
     "name": "stdout",
     "output_type": "stream",
     "text": [
      "10와 20의 곱은 200입니다.\n"
     ]
    }
   ],
   "source": [
    "print_mult(10, 20)"
   ]
  },
  {
   "cell_type": "code",
   "execution_count": 122,
   "metadata": {},
   "outputs": [],
   "source": [
    "# (a*x^2)+(2*x)-8\n",
    ">>> a = 1\n",
    ">>> b = 2\n",
    ">>> c = -8\n",
    "\n",
    "# 근의 공식에 의한 이차방정식의 두 근\n",
    ">>> r1 = (-b + (b ** 2 - 4 * a * c) ** 0.5) / (2 * a)\n",
    ">>> r2 = (-b - (b ** 2 - 4 * a * c) ** 0.5) / (2 * a)"
   ]
  },
  {
   "cell_type": "code",
   "execution_count": 128,
   "metadata": {},
   "outputs": [
    {
     "name": "stdout",
     "output_type": "stream",
     "text": [
      "r1= 4.0 r2= -1.0\n"
     ]
    }
   ],
   "source": [
    "print('r1=', r1, 'r2=', r2)"
   ]
  },
  {
   "cell_type": "code",
   "execution_count": 127,
   "metadata": {},
   "outputs": [],
   "source": [
    "# 2 * x^2 - 6 * x - 8\n",
    ">>> a = 2\n",
    ">>> b = -6\n",
    ">>> c = -8\n",
    "\n",
    "# 근의 공식에 의한 이차방정식의 두 근\n",
    ">>> r1 = (-b + (b ** 2 - 4 * a * c) ** 0.5) / (2 * a)\n",
    ">>> r2 = (-b - (b ** 2 - 4 * a * c) ** 0.5) / (2 * a)"
   ]
  },
  {
   "cell_type": "code",
   "execution_count": 129,
   "metadata": {},
   "outputs": [
    {
     "name": "stdout",
     "output_type": "stream",
     "text": [
      "해는 2.0 또는 -4.0 이다.\n"
     ]
    }
   ],
   "source": [
    ">>> def print_root(a, b, c):\n",
    "    r1 = (-b + (b ** 2 - 4 * a * c) ** 0.5) / 2 * a\n",
    "    r2 = (-b - (b ** 2 - 4 * a * c) ** 0.5) / 2 * a\n",
    "    print('해는 {} 또는 {} 이다.'.format(r1, r2))\n",
    "\n",
    ">>> print_root(1, 2, -8)"
   ]
  },
  {
   "cell_type": "code",
   "execution_count": 130,
   "metadata": {},
   "outputs": [
    {
     "name": "stdout",
     "output_type": "stream",
     "text": [
      "해는 16.0 또는 -4.0 이다.\n"
     ]
    }
   ],
   "source": [
    ">>> print_root(2, -6, -8)"
   ]
  },
  {
   "cell_type": "code",
   "execution_count": 131,
   "metadata": {},
   "outputs": [
    {
     "name": "stdout",
     "output_type": "stream",
     "text": [
      "해는 3.0 또는 -7.0 이다.\n",
      "해는 4.0 또는 2.0 이다.\n"
     ]
    }
   ],
   "source": [
    "# 문항 1-(1)\n",
    ">>> print_root(1, 4, -21)\n",
    "\n",
    "\n",
    "# 문항 1-(2)\n",
    ">>> print_root(1, -6, 8)\n"
   ]
  },
  {
   "cell_type": "code",
   "execution_count": 135,
   "metadata": {},
   "outputs": [
    {
     "name": "stdout",
     "output_type": "stream",
     "text": [
      "밑변 10, 높이 20인 삼각형의 면적은: 100\n"
     ]
    }
   ],
   "source": [
    "# 문항 2\n",
    ">>> def print_area(width, height):\n",
    "    area = width * height * 1/2\n",
    "    print('밑변 {}, 높이 {}인 삼각형의 면적은: {}'.format(width, height, int(area)))\n",
    "\n",
    ">>> print_area(10, 20)"
   ]
  },
  {
   "cell_type": "code",
   "execution_count": 136,
   "metadata": {},
   "outputs": [
    {
     "name": "stdout",
     "output_type": "stream",
     "text": [
      "10과 20의 합 = 30\n",
      "100과 200의 합 = 300\n"
     ]
    }
   ],
   "source": [
    ">>> def get_sum(a, b):\n",
    "    result = a + b\n",
    "    return result\n",
    "    \n",
    ">>> n1 = get_sum(10, 20)\n",
    ">>> print('10과 20의 합 =', n1)\n",
    "\n",
    ">>> n2 = get_sum(100, 200)\n",
    ">>> print('100과 200의 합 =', n2)"
   ]
  },
  {
   "cell_type": "code",
   "execution_count": 137,
   "metadata": {},
   "outputs": [
    {
     "name": "stdout",
     "output_type": "stream",
     "text": [
      "해는 2.0 또는 -4.0 이다.\n"
     ]
    }
   ],
   "source": [
    ">>> def get_root(a, b, c):\n",
    "    r1 = (-b + (b ** 2 - 4 * a * c) ** 0.5) / (2 * a)\n",
    "    r2 = (-b - (b ** 2 - 4 * a * c) ** 0.5) / (2 * a)\n",
    "    return r1, r2\n",
    "    \n",
    ">>> result1, result2 = get_root(1, 2, -8)\n",
    ">>> print('해는 {} 또는 {} 이다.'.format(result1, result2))"
   ]
  },
  {
   "cell_type": "code",
   "execution_count": 144,
   "metadata": {},
   "outputs": [
    {
     "name": "stdout",
     "output_type": "stream",
     "text": [
      "반지름 10인 원의 면적은 314.0, 원의 둘레는 62.800000000000004\n"
     ]
    }
   ],
   "source": [
    "# 문항 1\n",
    ">>> def circle_area_circum(radius):\n",
    "    area = 3.14 * radius * radius\n",
    "    circum = 2 * 3.14 * radius\n",
    "    return area, circum\n",
    "\n",
    ">>> area, circum = circle_area_circum(10)\n",
    ">>> print('반지름 10인 원의 면적은 {}, 원의 둘레는 {}'.format(area, circum))"
   ]
  },
  {
   "cell_type": "code",
   "execution_count": 260,
   "metadata": {},
   "outputs": [],
   "source": [
    "# 문항 1\n",
    "def multiplies(n, m):\n",
    "    res = list()\n",
    "    for i in range(1, m+1):\n",
    "        res.append(n * i)\n",
    "    return res"
   ]
  },
  {
   "cell_type": "code",
   "execution_count": 261,
   "metadata": {},
   "outputs": [],
   "source": [
    "r1, r2, r3, r4 = multiplies(3, 4)"
   ]
  },
  {
   "cell_type": "code",
   "execution_count": 262,
   "metadata": {},
   "outputs": [
    {
     "name": "stdout",
     "output_type": "stream",
     "text": [
      "3 6 9 12\n"
     ]
    }
   ],
   "source": [
    "print(r1, r2, r3, r4)"
   ]
  },
  {
   "cell_type": "code",
   "execution_count": 265,
   "metadata": {},
   "outputs": [],
   "source": [
    "r1, r2, r3, r4, r5 = multiplies(2, 5)"
   ]
  },
  {
   "cell_type": "code",
   "execution_count": 266,
   "metadata": {},
   "outputs": [
    {
     "name": "stdout",
     "output_type": "stream",
     "text": [
      "2 4 6 8 10\n"
     ]
    }
   ],
   "source": [
    "print(r1, r2, r3, r4, r5)"
   ]
  },
  {
   "cell_type": "code",
   "execution_count": 268,
   "metadata": {},
   "outputs": [
    {
     "name": "stdout",
     "output_type": "stream",
     "text": [
      "print_sum() 내부: 10 과 20 의 합은 30 입니다.\n",
      "print_sum() 외부: 10 과 20 의 합은 30 입니다.\n"
     ]
    }
   ],
   "source": [
    ">>> def print_sum():\n",
    "    result = a + b\n",
    "    print('print_sum() 내부:', a, '과', b, '의 합은', result, '입니다.')\n",
    "\n",
    ">>> a = 10\n",
    ">>> b = 20\n",
    ">>> print_sum()\n",
    ">>> result = a + b\n",
    ">>> print('print_sum() 외부:', a, '과', b, '의 합은', result, '입니다.')"
   ]
  },
  {
   "cell_type": "code",
   "execution_count": 271,
   "metadata": {},
   "outputs": [
    {
     "name": "stdout",
     "output_type": "stream",
     "text": [
      "print_sum() 내부: 100 과 200 의 합은 300 입니다.\n",
      "print_sum() 외부: 10 과 20 의 합은 30 입니다.\n"
     ]
    }
   ],
   "source": [
    ">>> def print_sum():\n",
    "    a = 100\n",
    "    b = 200 # 지역 변수\n",
    "    result = a + b\n",
    "    print('print_sum() 내부:', a, '과', b, '의 합은', result, '입니다.')\n",
    "\n",
    "# 전역 변수\n",
    ">>> a = 10\n",
    ">>> b = 20\n",
    ">>> print_sum()\n",
    "\n",
    ">>> result = a + b\n",
    ">>> print('print_sum() 외부:', a, '과', b, '의 합은', result, '입니다.')"
   ]
  },
  {
   "cell_type": "code",
   "execution_count": 279,
   "metadata": {},
   "outputs": [
    {
     "name": "stdout",
     "output_type": "stream",
     "text": [
      "print_sum() 내부: 100 과 200 의 합은 300 입니다.\n",
      "print_sum() 외부: 100 과 200 의 합은 300 입니다.\n"
     ]
    }
   ],
   "source": [
    ">>> def print_sum():\n",
    "    global a, b\n",
    "    a = 100\n",
    "    b = 200\n",
    "    result = a + b\n",
    "    print('print_sum() 내부:', a, '과', b, '의 합은', result, '입니다.')\n",
    "\n",
    ">>> a = 10\n",
    ">>> b = 20\n",
    ">>> print_sum()\n",
    ">>> result = a + b\n",
    ">>> print('print_sum() 외부:', a, '과', b, '의 합은', result, '입니다.')\n"
   ]
  },
  {
   "cell_type": "code",
   "execution_count": 282,
   "metadata": {},
   "outputs": [],
   "source": [
    "GLOBAL_VALUE = 1024\n",
    "def foo():\n",
    "    global GLOBAL_VALUE\n",
    "    a = GLOBAL_VALUE * 100\n",
    "    return a"
   ]
  },
  {
   "cell_type": "code",
   "execution_count": 283,
   "metadata": {},
   "outputs": [
    {
     "data": {
      "text/plain": [
       "102400"
      ]
     },
     "execution_count": 283,
     "metadata": {},
     "output_type": "execute_result"
    }
   ],
   "source": [
    "foo()"
   ]
  },
  {
   "cell_type": "code",
   "execution_count": 284,
   "metadata": {},
   "outputs": [
    {
     "name": "stdout",
     "output_type": "stream",
     "text": [
      "div(4) = 2.0\n",
      "div(6) = 3.0\n"
     ]
    }
   ],
   "source": [
    ">>> def div(a, b = 2):\n",
    "    return a / b\n",
    "\n",
    ">>> print('div(4) =', div(4))\n",
    ">>> print('div(6) =', div(6))"
   ]
  },
  {
   "cell_type": "code",
   "execution_count": 286,
   "metadata": {},
   "outputs": [
    {
     "name": "stdout",
     "output_type": "stream",
     "text": [
      "div() = 0.5\n",
      "div(4) = 2.0\n",
      "div(6, 3) = 2.0\n"
     ]
    }
   ],
   "source": [
    ">>> def div(a = 1, b = 2):\n",
    "    return a / b\n",
    "\n",
    ">>> print('div() =', div()) # div(1, 2)\n",
    ">>> print('div(4) =', div(4)) # div(4, 2)\n",
    ">>> print('div(6, 3) =', div(6, 3)) # div(6, 3)"
   ]
  },
  {
   "cell_type": "code",
   "execution_count": 287,
   "metadata": {},
   "outputs": [
    {
     "name": "stdout",
     "output_type": "stream",
     "text": [
      "circle area = 78.5\n"
     ]
    }
   ],
   "source": [
    ">>> def func(shape, width = 1, height = 1, radius = 1):\n",
    "    if shape == 0:\n",
    "        return width * height\n",
    "    if shape == 1:\n",
    "        return 3.14 * radius ** 2\n",
    ">>> print(\"circle area =\", func(1, radius =5))"
   ]
  },
  {
   "cell_type": "code",
   "execution_count": 288,
   "metadata": {},
   "outputs": [
    {
     "name": "stdout",
     "output_type": "stream",
     "text": [
      "Dr. Gildong Hong\n"
     ]
    }
   ],
   "source": [
    ">>> def print_name(honorifics, first_name, last_name):\n",
    "\tprint(honorifics, first_name, last_name)\n",
    "\n",
    ">>> print_name(first_name = 'Gildong', last_name = 'Hong', honorifics = 'Dr.')"
   ]
  },
  {
   "cell_type": "code",
   "execution_count": 289,
   "metadata": {},
   "outputs": [
    {
     "name": "stdout",
     "output_type": "stream",
     "text": [
      "Gildong Hong Dr.\n"
     ]
    }
   ],
   "source": [
    ">>> print_name('Gildong', 'Hong', 'Dr.')"
   ]
  },
  {
   "cell_type": "code",
   "execution_count": 292,
   "metadata": {},
   "outputs": [
    {
     "name": "stdout",
     "output_type": "stream",
     "text": [
      "안녕하세요 홍길순 씨\n",
      "안녕하세요 홍길동 씨\n",
      "안녕하세요 이순신 씨\n",
      "안녕하세요 Luna 씨\n",
      "안녕하세요 Thomas 씨\n"
     ]
    }
   ],
   "source": [
    ">>> def greet(*names):\n",
    "    for name in names:\n",
    "        print('안녕하세요', name, '씨')\n",
    "\n",
    ">>> greet('홍길순', '홍길동', '이순신') # 3개의 인자\n",
    ">>> greet('Luna', 'Thomas') # 2개의 인자"
   ]
  },
  {
   "cell_type": "code",
   "execution_count": 304,
   "metadata": {},
   "outputs": [
    {
     "name": "stdout",
     "output_type": "stream",
     "text": [
      "합계: 60 평균: 20.0\n"
     ]
    }
   ],
   "source": [
    ">>> def sum_nums(*numbers):\n",
    "    result = 0\n",
    "    for n in numbers:\n",
    "        result += n\n",
    "    avg = result / len(numbers)\n",
    "    print('합계:', result, '평균:', avg)\n",
    "\n",
    ">>> sum_nums(10, 20, 30)"
   ]
  },
  {
   "cell_type": "code",
   "execution_count": 305,
   "metadata": {},
   "outputs": [
    {
     "name": "stdout",
     "output_type": "stream",
     "text": [
      "합계: 150 평균: 30.0\n"
     ]
    }
   ],
   "source": [
    ">>> sum_nums(10, 20, 30, 40, 50)"
   ]
  },
  {
   "cell_type": "code",
   "execution_count": 301,
   "metadata": {},
   "outputs": [
    {
     "name": "stdout",
     "output_type": "stream",
     "text": [
      "최솟값은 10\n"
     ]
    }
   ],
   "source": [
    ">>> def min_nums(*inte):\n",
    "    minimum = min(inte)\n",
    "    print('최솟값은', minimum)\n",
    "\n",
    ">>> min_nums(20, 40, 50, 10)"
   ]
  },
  {
   "cell_type": "code",
   "execution_count": 310,
   "metadata": {},
   "outputs": [
    {
     "name": "stdin",
     "output_type": "stream",
     "text": [
      "몇 개의 피보나치수를 원하세요? 10\n"
     ]
    },
    {
     "name": "stdout",
     "output_type": "stream",
     "text": [
      "Fibonacci 수열:0 1 1 2 3 5 8 13 21 34 "
     ]
    }
   ],
   "source": [
    ">>> def fibonacci(n):\n",
    "    if n <= 1:\n",
    "        return n\n",
    "    else:\n",
    "        return(fibonacci(n-1) + fibonacci(n-2)) # 정의에 입각\n",
    "\n",
    ">>> nterms = int(input('몇 개의 피보나치수를 원하세요?'))\n",
    "\n",
    ">>> if nterms <= 0:\n",
    "    print('오류: 양수를 입력하세요.')\n",
    "else:\n",
    "    print('Fibonacci 수열:', end = '')\n",
    "    for i in range(nterms):\n",
    "        print(fibonacci(i), end = ' ')"
   ]
  },
  {
   "cell_type": "code",
   "execution_count": 312,
   "metadata": {},
   "outputs": [
    {
     "name": "stdout",
     "output_type": "stream",
     "text": [
      "Enter your name:\n"
     ]
    },
    {
     "name": "stdin",
     "output_type": "stream",
     "text": [
      " Jiwon\n"
     ]
    },
    {
     "name": "stdout",
     "output_type": "stream",
     "text": [
      "Hello Jiwon !\n"
     ]
    }
   ],
   "source": [
    ">>> print('Enter your name:')\n",
    ">>> name = input()\n",
    ">>> print('Hello', name, '!')"
   ]
  },
  {
   "cell_type": "code",
   "execution_count": null,
   "metadata": {},
   "outputs": [],
   "source": []
  }
 ],
 "metadata": {
  "kernelspec": {
   "display_name": "Python 3",
   "language": "python",
   "name": "python3"
  },
  "language_info": {
   "codemirror_mode": {
    "name": "ipython",
    "version": 3
   },
   "file_extension": ".py",
   "mimetype": "text/x-python",
   "name": "python",
   "nbconvert_exporter": "python",
   "pygments_lexer": "ipython3",
   "version": "3.8.5"
  }
 },
 "nbformat": 4,
 "nbformat_minor": 4
}
