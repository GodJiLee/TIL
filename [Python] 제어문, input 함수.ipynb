{
 "cells": [
  {
   "cell_type": "code",
   "execution_count": 9,
   "metadata": {},
   "outputs": [
    {
     "name": "stdin",
     "output_type": "stream",
     "text": [
      "반지름을 입력하세요:  30\n"
     ]
    },
    {
     "name": "stdout",
     "output_type": "stream",
     "text": [
      "원의 면적은:  2826.0\n"
     ]
    }
   ],
   "source": [
    "radius = int(input('반지름을 입력하세요: '))\n",
    "print('원의 면적은: ', 3.14 * radius * radius)"
   ]
  },
  {
   "cell_type": "code",
   "execution_count": 10,
   "metadata": {},
   "outputs": [
    {
     "name": "stdin",
     "output_type": "stream",
     "text": [
      "숫자 m을 입력하세요:  2\n",
      "숫자 n을 입력하세요:  20\n"
     ]
    },
    {
     "name": "stdout",
     "output_type": "stream",
     "text": [
      "m + n =  22\n",
      "m - n =  -18\n"
     ]
    }
   ],
   "source": [
    "m = int(input('숫자 m을 입력하세요: '))\n",
    "n = int(input('숫자 n을 입력하세요: '))\n",
    "print('m + n = ', m + n)\n",
    "print('m - n = ', m - n)"
   ]
  },
  {
   "cell_type": "code",
   "execution_count": 11,
   "metadata": {},
   "outputs": [
    {
     "name": "stdin",
     "output_type": "stream",
     "text": [
      "이름을 입력하세요:  이지원\n"
     ]
    },
    {
     "name": "stdout",
     "output_type": "stream",
     "text": [
      "이지원 님이 입장하셨습니다.\n"
     ]
    }
   ],
   "source": [
    "name = input('이름을 입력하세요: ')\n",
    "print(name, '님이 입장하셨습니다.')"
   ]
  },
  {
   "cell_type": "code",
   "execution_count": 12,
   "metadata": {},
   "outputs": [
    {
     "name": "stdin",
     "output_type": "stream",
     "text": [
      "이름을 입력하세요:  이지원\n"
     ]
    },
    {
     "name": "stdout",
     "output_type": "stream",
     "text": [
      "이름: 이지원\n"
     ]
    },
    {
     "name": "stdin",
     "output_type": "stream",
     "text": [
      "나이를 입력하세요:  24\n"
     ]
    },
    {
     "name": "stdout",
     "output_type": "stream",
     "text": [
      "10년 후 나이:  34\n"
     ]
    }
   ],
   "source": [
    "name = input('이름을 입력하세요: ') #name은 문자열로 입력받음\n",
    "print('이름:', name)\n",
    "age = int(input('나이를 입력하세요: ')) # age는 문자열롤 입력받아 int형으로 변환\n",
    "print('10년 후 나이: ', age + 10) #따라서 정수 덧셈 연산이 가능"
   ]
  },
  {
   "cell_type": "code",
   "execution_count": 29,
   "metadata": {},
   "outputs": [
    {
     "name": "stdout",
     "output_type": "stream",
     "text": [
      "주석은\n",
      "실행되지 않습니다.\n"
     ]
    }
   ],
   "source": [
    "# 주석 예제\n",
    "print(\"주석은\")\n",
    "#print(\"이 프린트 문을 주석으로 처리하세요.\")\n",
    "print(\"실행되지 않습니다.\")"
   ]
  },
  {
   "cell_type": "code",
   "execution_count": 26,
   "metadata": {},
   "outputs": [
    {
     "name": "stdin",
     "output_type": "stream",
     "text": [
      "나이를 입력하세요:  23\n"
     ]
    },
    {
     "name": "stdout",
     "output_type": "stream",
     "text": [
      "할인 대상이 아닙니다\n"
     ]
    }
   ],
   "source": [
    "age = int(input('나이를 입력하세요: '))\n",
    "\n",
    "if age < 20:\n",
    "    print('청소년 할인')\n",
    "else: \n",
    "    print('할인 대상이 아닙니다')"
   ]
  },
  {
   "cell_type": "code",
   "execution_count": 23,
   "metadata": {},
   "outputs": [
    {
     "name": "stdin",
     "output_type": "stream",
     "text": [
      "오늘 걸은 횟수:  3000\n"
     ]
    },
    {
     "name": "stdout",
     "output_type": "stream",
     "text": [
      "목표 달성\n"
     ]
    }
   ],
   "source": [
    "walk_count = int(input('오늘 걸은 횟수: '))\n",
    "if walk_count >= 1000:\n",
    "    print('목표 달성')\n",
    "else: \n",
    "    print('목표를 달성하지 못했습니다.')"
   ]
  },
  {
   "cell_type": "code",
   "execution_count": 25,
   "metadata": {},
   "outputs": [
    {
     "name": "stdin",
     "output_type": "stream",
     "text": [
      "a값을 입력하세요:  20\n",
      "b값을 입력하세요:  30\n"
     ]
    },
    {
     "name": "stdout",
     "output_type": "stream",
     "text": [
      "두 값이 일치하지 않습니다.\n"
     ]
    }
   ],
   "source": [
    "num_a = int(input('a값을 입력하세요: '))\n",
    "num_b = int(input('b값을 입력하세요: '))\n",
    "if num_a == num_b:\n",
    "    print('두 값이 일치합니다.')\n",
    "else: \n",
    "    print('두 값이 일치하지 않습니다.')"
   ]
  },
  {
   "cell_type": "code",
   "execution_count": 37,
   "metadata": {},
   "outputs": [
    {
     "name": "stdin",
     "output_type": "stream",
     "text": [
      "수 두 개를 입력하세요:  1 1\n"
     ]
    },
    {
     "name": "stdout",
     "output_type": "stream",
     "text": [
      "두 값이 일치합니다.\n"
     ]
    }
   ],
   "source": [
    "num1, num2 = input('수 두 개를 입력하세요: ').split()\n",
    "num1 = int(num1)\n",
    "num2 = int(num2)\n",
    "if num1 == num2:\n",
    "    print('두 값이 일치합니다.')\n",
    "else: \n",
    "    print('두 값은 일치하지 않습니다.')"
   ]
  },
  {
   "cell_type": "code",
   "execution_count": 43,
   "metadata": {},
   "outputs": [
    {
     "name": "stdin",
     "output_type": "stream",
     "text": [
      "수 세 개를 입력하세요. 1 1 2\n"
     ]
    },
    {
     "name": "stdout",
     "output_type": "stream",
     "text": [
      "두 값이 일치합니다.\n"
     ]
    }
   ],
   "source": [
    "num3, num4, num5 = map(int, input('수 세 개를 입력하세요.'). split())\n",
    "if num1 == num2:\n",
    "    print('두 값이 일치합니다.')\n",
    "else: \n",
    "    print('두 값은 일치하지 않습니다.')"
   ]
  },
  {
   "cell_type": "code",
   "execution_count": null,
   "metadata": {},
   "outputs": [],
   "source": []
  }
 ],
 "metadata": {
  "kernelspec": {
   "display_name": "Python 3",
   "language": "python",
   "name": "python3"
  },
  "language_info": {
   "codemirror_mode": {
    "name": "ipython",
    "version": 3
   },
   "file_extension": ".py",
   "mimetype": "text/x-python",
   "name": "python",
   "nbconvert_exporter": "python",
   "pygments_lexer": "ipython3",
   "version": "3.8.5"
  }
 },
 "nbformat": 4,
 "nbformat_minor": 4
}
