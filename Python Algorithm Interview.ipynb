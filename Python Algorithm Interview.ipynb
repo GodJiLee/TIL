{
 "cells": [
  {
   "cell_type": "markdown",
   "metadata": {},
   "source": [
    "# [파이썬 알고리즘 인터뷰]\n",
    "## 제 2장 프로그래밍 언어 선택"
   ]
  },
  {
   "cell_type": "code",
   "execution_count": 15,
   "metadata": {},
   "outputs": [
    {
     "ename": "SyntaxError",
     "evalue": "invalid syntax (<ipython-input-15-025bf3c90d61>, line 2)",
     "output_type": "error",
     "traceback": [
      "\u001b[1;36m  File \u001b[1;32m\"<ipython-input-15-025bf3c90d61>\"\u001b[1;36m, line \u001b[1;32m2\u001b[0m\n\u001b[1;33m    var sum int = 0\u001b[0m\n\u001b[1;37m        ^\u001b[0m\n\u001b[1;31mSyntaxError\u001b[0m\u001b[1;31m:\u001b[0m invalid syntax\n"
     ]
    }
   ],
   "source": [
    "# Go\n",
    "var sum int = 0\n",
    "for i := 1; i <= 10; i++ {\n",
    "    sum += i\n",
    "}\n",
    "\n",
    "# 타입스크립트\n",
    "let sum: number = 0;\n",
    "for (let i = 1; i <= 10; i++) {\n",
    "    sum += i;\n",
    "}"
   ]
  },
  {
   "cell_type": "code",
   "execution_count": 3,
   "metadata": {},
   "outputs": [
    {
     "ename": "SyntaxError",
     "evalue": "invalid syntax (<ipython-input-3-b52c534dcf0e>, line 2)",
     "output_type": "error",
     "traceback": [
      "\u001b[1;36m  File \u001b[1;32m\"<ipython-input-3-b52c534dcf0e>\"\u001b[1;36m, line \u001b[1;32m2\u001b[0m\n\u001b[1;33m    int sum = 0;\u001b[0m\n\u001b[1;37m        ^\u001b[0m\n\u001b[1;31mSyntaxError\u001b[0m\u001b[1;31m:\u001b[0m invalid syntax\n"
     ]
    }
   ],
   "source": [
    "# C++ \n",
    "int sum = 0;\n",
    "for (int i = 1; i <= 10; i++) {\n",
    "    sum += i;\n",
    "}\n",
    "\n",
    "# java\n",
    "int sum = 0;\n",
    "for (int i = 1; i <= 10; i++) {\n",
    "    sum += i;\n",
    "}\n",
    "\n",
    "# python\n",
    "# example 1\n",
    "sum = 0\n",
    "for i in range(1, 10 + 1):\n",
    "    sum += i\n",
    "    \n",
    "# example 2\n",
    "sum = sum(i for i in range(1, 10 + 1))\n",
    "\n",
    "# example 3\n",
    "sum = sum(range(1, 10 + 1))"
   ]
  },
  {
   "cell_type": "code",
   "execution_count": 8,
   "metadata": {},
   "outputs": [
    {
     "data": {
      "text/plain": [
       "True"
      ]
     },
     "execution_count": 8,
     "metadata": {},
     "output_type": "execute_result"
    }
   ],
   "source": [
    "def are_equal(a, b):\n",
    "    return a == b\n",
    "are_equal(10, 10.0)"
   ]
  },
  {
   "cell_type": "code",
   "execution_count": 10,
   "metadata": {},
   "outputs": [
    {
     "data": {
      "text/plain": [
       "True"
      ]
     },
     "execution_count": 10,
     "metadata": {},
     "output_type": "execute_result"
    }
   ],
   "source": [
    "# 타입 명시 \n",
    "from typing import TypeVar\n",
    "\n",
    "T = TypeVar('T')\n",
    "U = TypeVar('U')\n",
    "\n",
    "def are_equal(a: T, b: U) -> bool:\n",
    "    return a == b\n",
    "\n",
    "are_equal(10, 10.0)"
   ]
  },
  {
   "cell_type": "code",
   "execution_count": 11,
   "metadata": {},
   "outputs": [
    {
     "ename": "SyntaxError",
     "evalue": "invalid syntax (<ipython-input-11-ef662a55a38a>, line 2)",
     "output_type": "error",
     "traceback": [
      "\u001b[1;36m  File \u001b[1;32m\"<ipython-input-11-ef662a55a38a>\"\u001b[1;36m, line \u001b[1;32m2\u001b[0m\n\u001b[1;33m    function are_equal<T, U>(a: T, b: U): boolean {\u001b[0m\n\u001b[1;37m             ^\u001b[0m\n\u001b[1;31mSyntaxError\u001b[0m\u001b[1;31m:\u001b[0m invalid syntax\n"
     ]
    }
   ],
   "source": [
    "# 타입 스크립트\n",
    "function are_equal<T, U>(a: T, b: U): boolean {\n",
    "    return +a == +b;\n",
    "}\n",
    "\n",
    "are_equal<number, number>(10, 10.0);"
   ]
  },
  {
   "cell_type": "code",
   "execution_count": 12,
   "metadata": {},
   "outputs": [
    {
     "ename": "SyntaxError",
     "evalue": "invalid syntax (<ipython-input-12-caaad2dae3bc>, line 3)",
     "output_type": "error",
     "traceback": [
      "\u001b[1;36m  File \u001b[1;32m\"<ipython-input-12-caaad2dae3bc>\"\u001b[1;36m, line \u001b[1;32m3\u001b[0m\n\u001b[1;33m    std::string foo[] = {'A', 'B', 'C'};\u001b[0m\n\u001b[1;37m        ^\u001b[0m\n\u001b[1;31mSyntaxError\u001b[0m\u001b[1;31m:\u001b[0m invalid syntax\n"
     ]
    }
   ],
   "source": [
    "# 배열 반복\n",
    "# C++\n",
    "std::string foo[] = {'A', 'B', 'C'};\n",
    "for (std::string f : foo) {\n",
    "    std::cout << f << std::endl;\n",
    "}\n",
    "\n",
    "# Java\n",
    "String[] foo = new String[]{'A', 'B', 'C'};\n",
    "for (String f : foo) {\n",
    "    System.out.println(f);\n",
    "}"
   ]
  },
  {
   "cell_type": "code",
   "execution_count": 13,
   "metadata": {},
   "outputs": [
    {
     "name": "stdout",
     "output_type": "stream",
     "text": [
      "A\n",
      "B\n",
      "C\n"
     ]
    }
   ],
   "source": [
    "# Python\n",
    "foo = ['A', 'B', 'C']\n",
    "for f in foo:\n",
    "    print(f)"
   ]
  },
  {
   "cell_type": "code",
   "execution_count": 14,
   "metadata": {},
   "outputs": [
    {
     "ename": "SyntaxError",
     "evalue": "invalid syntax (<ipython-input-14-43fc0ef56d2e>, line 2)",
     "output_type": "error",
     "traceback": [
      "\u001b[1;36m  File \u001b[1;32m\"<ipython-input-14-43fc0ef56d2e>\"\u001b[1;36m, line \u001b[1;32m2\u001b[0m\n\u001b[1;33m    var foo = []string{'A', 'B', 'C'}\u001b[0m\n\u001b[1;37m        ^\u001b[0m\n\u001b[1;31mSyntaxError\u001b[0m\u001b[1;31m:\u001b[0m invalid syntax\n"
     ]
    }
   ],
   "source": [
    "# Go\n",
    "var foo = []string{'A', 'B', 'C'}\n",
    "for _, f := range foo {\n",
    "    fmt.Println(f)\n",
    "}\n",
    "    \n",
    "# 타입스크립트\n",
    "let foo: string[] = ['A', 'B', 'C'];\n",
    "for (const f of foo) {\n",
    "    console.log(f);\n",
    "}"
   ]
  },
  {
   "cell_type": "code",
   "execution_count": 17,
   "metadata": {},
   "outputs": [
    {
     "ename": "SyntaxError",
     "evalue": "invalid syntax (<ipython-input-17-a9ad4cb816c1>, line 2)",
     "output_type": "error",
     "traceback": [
      "\u001b[1;36m  File \u001b[1;32m\"<ipython-input-17-a9ad4cb816c1>\"\u001b[1;36m, line \u001b[1;32m2\u001b[0m\n\u001b[1;33m    class Rectangle {\u001b[0m\n\u001b[1;37m                    ^\u001b[0m\n\u001b[1;31mSyntaxError\u001b[0m\u001b[1;31m:\u001b[0m invalid syntax\n"
     ]
    }
   ],
   "source": [
    "# 클래스 선언\n",
    "class Rectangle {\n",
    "    int width, height;\n",
    "public:\n",
    "    Rectangle(int, int);\n",
    "    \n",
    "    int area();\n",
    "};\n",
    "\n",
    "# 구현\n",
    "Rectangle::Rectangle(int x, int y) {\n",
    "    width = x;\n",
    "    height = y;\n",
    "}\n",
    "        \n",
    "int Rectangle::area() {\n",
    "    return width * height\n",
    "}\n",
    "    \n",
    "Rectangle rect(3, 4);\n",
    "std::cout << rect.area() << std::endl;"
   ]
  },
  {
   "cell_type": "code",
   "execution_count": 19,
   "metadata": {},
   "outputs": [
    {
     "ename": "SyntaxError",
     "evalue": "invalid syntax (<ipython-input-19-ac74a97720da>, line 2)",
     "output_type": "error",
     "traceback": [
      "\u001b[1;36m  File \u001b[1;32m\"<ipython-input-19-ac74a97720da>\"\u001b[1;36m, line \u001b[1;32m2\u001b[0m\n\u001b[1;33m    class Rectangle {\u001b[0m\n\u001b[1;37m                    ^\u001b[0m\n\u001b[1;31mSyntaxError\u001b[0m\u001b[1;31m:\u001b[0m invalid syntax\n"
     ]
    }
   ],
   "source": [
    "# Java\n",
    "class Rectangle {\n",
    "    int width;\n",
    "    int height;\n",
    "    \n",
    "    public Rectangle(int width, int height) {\n",
    "        this.width = width;\n",
    "        this.height = height;\n",
    "    }\n",
    "    \n",
    "    public int area() {\n",
    "        return this.width * this.height;\n",
    "    }\n",
    "}\n",
    "\n",
    "Rectangle rect = new Rectangle(3, 4);\n",
    "System.out.println(rect.area());"
   ]
  },
  {
   "cell_type": "code",
   "execution_count": 21,
   "metadata": {},
   "outputs": [
    {
     "name": "stdout",
     "output_type": "stream",
     "text": [
      "12\n"
     ]
    }
   ],
   "source": [
    "# Python\n",
    "from dataclasses import dataclass\n",
    "\n",
    "@dataclass\n",
    "class Rectangle:\n",
    "    width: int\n",
    "    height: int\n",
    "    \n",
    "    def area(self):\n",
    "        return self.width * self.height\n",
    "\n",
    "rect = Rectangle(3, 4)\n",
    "print(rect.area())"
   ]
  },
  {
   "cell_type": "code",
   "execution_count": 22,
   "metadata": {},
   "outputs": [
    {
     "ename": "SyntaxError",
     "evalue": "invalid syntax (<ipython-input-22-0dc811153719>, line 2)",
     "output_type": "error",
     "traceback": [
      "\u001b[1;36m  File \u001b[1;32m\"<ipython-input-22-0dc811153719>\"\u001b[1;36m, line \u001b[1;32m2\u001b[0m\n\u001b[1;33m    type Geometry interface {\u001b[0m\n\u001b[1;37m         ^\u001b[0m\n\u001b[1;31mSyntaxError\u001b[0m\u001b[1;31m:\u001b[0m invalid syntax\n"
     ]
    }
   ],
   "source": [
    "# Go\n",
    "type Geometry interface {\n",
    "    area() int\n",
    "}\n",
    "\n",
    "type Rectangle struct { # class를 대체하는 struct\n",
    "    widht int\n",
    "    height int\n",
    "}\n",
    "\n",
    "func (r *Rectangle) area() int {\n",
    "    return r.width * r.height\n",
    "}\n",
    "\n",
    "var rect Geometry = &Rectangle{3, 4}\n",
    "fmt.Println(rect.area())"
   ]
  },
  {
   "cell_type": "code",
   "execution_count": 23,
   "metadata": {},
   "outputs": [
    {
     "ename": "SyntaxError",
     "evalue": "invalid syntax (<ipython-input-23-d5dab9fe9a6d>, line 2)",
     "output_type": "error",
     "traceback": [
      "\u001b[1;36m  File \u001b[1;32m\"<ipython-input-23-d5dab9fe9a6d>\"\u001b[1;36m, line \u001b[1;32m2\u001b[0m\n\u001b[1;33m    class Rectangle {\u001b[0m\n\u001b[1;37m                    ^\u001b[0m\n\u001b[1;31mSyntaxError\u001b[0m\u001b[1;31m:\u001b[0m invalid syntax\n"
     ]
    }
   ],
   "source": [
    "# TypeScript\n",
    "class Rectangle {\n",
    "    width: number;\n",
    "    height: number;\n",
    "    \n",
    "    constructor(width: number, height: number) {\n",
    "        this.width = width;\n",
    "        this.height = height;\n",
    "    }\n",
    "    \n",
    "    area(): number {\n",
    "        return this.width * this.height;\n",
    "    }\n",
    "}\n",
    "\n",
    "const rect = new Rectangle(3, 4);\n",
    "console.log(rect.area());"
   ]
  },
  {
   "cell_type": "code",
   "execution_count": null,
   "metadata": {},
   "outputs": [],
   "source": []
  }
 ],
 "metadata": {
  "kernelspec": {
   "display_name": "Python 3",
   "language": "python",
   "name": "python3"
  },
  "language_info": {
   "codemirror_mode": {
    "name": "ipython",
    "version": 3
   },
   "file_extension": ".py",
   "mimetype": "text/x-python",
   "name": "python",
   "nbconvert_exporter": "python",
   "pygments_lexer": "ipython3",
   "version": "3.8.5"
  }
 },
 "nbformat": 4,
 "nbformat_minor": 4
}
